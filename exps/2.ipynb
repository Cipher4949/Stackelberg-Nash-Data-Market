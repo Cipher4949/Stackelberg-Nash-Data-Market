{
 "cells": [
  {
   "cell_type": "code",
   "execution_count": 1,
   "metadata": {},
   "outputs": [],
   "source": [
    "import sys\n",
    "sys.path.append(\"..\")\n",
    "from SN.SN import Stackelberg_Nash_DataMarket\n",
    "from sklearn import svm, linear_model\n",
    "from data_processor.data_utils import preprocess_data_forSN, load_npy\n",
    "import numpy as np"
   ]
  },
  {
   "cell_type": "code",
   "execution_count": 2,
   "metadata": {},
   "outputs": [],
   "source": [
    "m = 100\n",
    "N = m * 5\n",
    "x_in, y_in, x_test, y_test = preprocess_data_forSN('seller_in2.csv', 'seller_test.csv', m, 90)\n",
    "theta = np.zeros(3)\n",
    "theta[1] = 0.5\n",
    "theta[2] = 1 - theta[1]\n",
    "rho = np.zeros(3)\n",
    "rho[1] = 0.5\n",
    "rho[2] = 0.5 * N\n",
    "score = 0.8\n",
    "sigma = np.zeros((4, 3))\n",
    "sigma_id = [(0, 0), (1, 0), (2, 0), (1, 1),  (2, 2), (3, 0)]\n",
    "sigma[0][0] = 0.01\n",
    "sigma[1][0] = -0.1\n",
    "sigma[1][1] = 0.01\n",
    "sigma[2][0] = -0.2\n",
    "sigma[2][2] = 0.02\n",
    "sigma[3][0] = 0.01\n",
    "lambda_ = np.zeros(m)\n",
    "omega = load_npy(\"omega_random.npy\")\n",
    "for i in range(m):\n",
    "    lambda_[i] = 0.5\n",
    "model = linear_model.LinearRegression()\n",
    "rate = 0.2\n",
    "scale = [1e-3, 1e-2, 0.1, 1., 10., 1e2, 1e3, 1e4, 1e5, 1e6, 1e7]\n",
    "scale2 = [1, 0.1, 1e-2, 1e-3, 1e-4, 1e-5, 1e-6, 1e-7]\n",
    "scale3 = [0.1, 0.09, 0.08, 0.07, 0.06, 0.05, 0.04, 0.03, 0.02, 0.01, \\\n",
    "        -0.01, -0.02, -0.03, -0.04, -0.05, -0.06, -0.07, -0.08, -0.09]"
   ]
  },
  {
   "cell_type": "code",
   "execution_count": 3,
   "metadata": {},
   "outputs": [],
   "source": [
    "thetas = [0.1, 0.2, 0.3, 0.4, 0.5, 0.6, 0.7, 0.8, 0.9]\n",
    "f = open('./res/theta_scale.txt', 'w+')\n",
    "for now_theta in thetas:\n",
    "    theta[1] = now_theta\n",
    "    theta[2] = 1 - theta[1]\n",
    "    Phi, Omega, Psi, ab_omega, pD, pM, tau, exact_score = \\\n",
    "        Stackelberg_Nash_DataMarket(x_test, y_test, theta, rho, score, sigma, lambda_, omega, m, N, x_in, y_in, model, rate)\n",
    "    f.write(str((Phi, Omega, Psi[0], pD, pM, tau[0],  exact_score)) + \"\\n\")\n",
    "theta[1] = 0.5\n",
    "theta[2] = 1 - theta[1]\n",
    "f.close()"
   ]
  },
  {
   "cell_type": "code",
   "execution_count": 4,
   "metadata": {},
   "outputs": [],
   "source": [
    "rhos = scale\n",
    "f = open('./res/rho1_scale.txt', 'w+')\n",
    "for now_rho1 in rhos:\n",
    "    rho[1] = now_rho1 * N\n",
    "    Phi, Omega, Psi, ab_omega, pD, pM, tau, exact_score = \\\n",
    "        Stackelberg_Nash_DataMarket(x_test, y_test, theta, rho, score, sigma, lambda_, omega, m, N, x_in, y_in, model, rate)\n",
    "    f.write(str((Phi, Omega, Psi[0], pD, pM, tau[0],  exact_score)) + \"\\n\")\n",
    "f.close()\n",
    "\n",
    "f = open('./res/rho2_scale.txt', 'w+')\n",
    "for now_rho2 in rhos:\n",
    "    rho[2] = now_rho2\n",
    "    Phi, Omega, Psi, ab_omega, pD, pM, tau, exact_score = \\\n",
    "        Stackelberg_Nash_DataMarket(x_test, y_test, theta, rho, score, sigma, lambda_, omega, m, N, x_in, y_in, model, rate)\n",
    "    f.write(str((Phi, Omega, Psi[0], pD, pM, tau[0],  exact_score)) + \"\\n\")\n",
    "rho[2] = 0.5\n",
    "f.close()"
   ]
  },
  {
   "cell_type": "code",
   "execution_count": 5,
   "metadata": {},
   "outputs": [],
   "source": [
    "scores = [0.1, 0.2, 0.3, 0.4, 0.5, 0.6, 0.7, 0.8, 0.9]\n",
    "f = open('./res/score_scale.txt', 'w+')\n",
    "for now_score in scores:\n",
    "    score = now_score\n",
    "    Phi, Omega, Psi, ab_omega, pD, pM, tau, exact_score = \\\n",
    "        Stackelberg_Nash_DataMarket(x_test, y_test, theta, rho, score, sigma, lambda_, omega, m, N, x_in, y_in, model, rate)\n",
    "    f.write(str((Phi, Omega, Psi[0], pD, pM, tau[0],  exact_score)) + \"\\n\")\n",
    "score = 0.8\n",
    "f.close()"
   ]
  },
  {
   "cell_type": "code",
   "execution_count": 6,
   "metadata": {},
   "outputs": [],
   "source": [
    "sigmas = scale3\n",
    "for id in sigma_id:\n",
    "    f = open('./res/sigma' + str(id) + '_scale3 .txt', 'w+')\n",
    "    for now_sigma in sigmas:\n",
    "        sigma[id] = now_sigma\n",
    "        Phi, Omega, Psi, ab_omega, pD, pM, tau, exact_score = \\\n",
    "            Stackelberg_Nash_DataMarket(x_test, y_test, theta, rho, score, sigma, lambda_, omega, m, N, x_in, y_in, model, rate)\n",
    "        f.write(str((Phi, Omega, Psi[0], pD, pM, tau[0],  exact_score)) + \"\\n\")\n",
    "    sigma[0][0] = 0.01\n",
    "    sigma[1][0] = -0.1\n",
    "    sigma[1][1] = 0.01\n",
    "    sigma[2][0] = -0.2\n",
    "    sigma[1][1] = 0.02\n",
    "    sigma[3][0] = 0.01\n",
    "    f.close()"
   ]
  },
  {
   "cell_type": "code",
   "execution_count": 7,
   "metadata": {},
   "outputs": [
    {
     "ename": "IndexError",
     "evalue": "index 90 is out of bounds for axis 0 with size 90",
     "output_type": "error",
     "traceback": [
      "\u001b[1;31m---------------------------------------------------------------------------\u001b[0m",
      "\u001b[1;31mIndexError\u001b[0m                                Traceback (most recent call last)",
      "\u001b[1;32mC:\\Users\\OPTIPL~1\\AppData\\Local\\Temp/ipykernel_16024/3213706656.py\u001b[0m in \u001b[0;36m<module>\u001b[1;34m\u001b[0m\n\u001b[0;32m      4\u001b[0m     \u001b[0mlambda_\u001b[0m\u001b[1;33m[\u001b[0m\u001b[1;36m0\u001b[0m\u001b[1;33m]\u001b[0m \u001b[1;33m=\u001b[0m \u001b[0mnow_lambda\u001b[0m\u001b[1;33m\u001b[0m\u001b[1;33m\u001b[0m\u001b[0m\n\u001b[0;32m      5\u001b[0m     \u001b[0mPhi\u001b[0m\u001b[1;33m,\u001b[0m \u001b[0mOmega\u001b[0m\u001b[1;33m,\u001b[0m \u001b[0mPsi\u001b[0m\u001b[1;33m,\u001b[0m \u001b[0mab_omega\u001b[0m\u001b[1;33m,\u001b[0m \u001b[0mpD\u001b[0m\u001b[1;33m,\u001b[0m \u001b[0mpM\u001b[0m\u001b[1;33m,\u001b[0m \u001b[0mtau\u001b[0m\u001b[1;33m,\u001b[0m \u001b[0mexact_score\u001b[0m \u001b[1;33m=\u001b[0m\u001b[0;31m \u001b[0m\u001b[0;31m\\\u001b[0m\u001b[1;33m\u001b[0m\u001b[1;33m\u001b[0m\u001b[0m\n\u001b[1;32m----> 6\u001b[1;33m         \u001b[0mStackelberg_Nash_DataMarket\u001b[0m\u001b[1;33m(\u001b[0m\u001b[0mx_test\u001b[0m\u001b[1;33m,\u001b[0m \u001b[0my_test\u001b[0m\u001b[1;33m,\u001b[0m \u001b[0mtheta\u001b[0m\u001b[1;33m,\u001b[0m \u001b[0mrho\u001b[0m\u001b[1;33m,\u001b[0m \u001b[0mscore\u001b[0m\u001b[1;33m,\u001b[0m \u001b[0msigma\u001b[0m\u001b[1;33m,\u001b[0m \u001b[0mlambda_\u001b[0m\u001b[1;33m,\u001b[0m \u001b[0momega\u001b[0m\u001b[1;33m,\u001b[0m \u001b[0mm\u001b[0m\u001b[1;33m,\u001b[0m \u001b[0mN\u001b[0m\u001b[1;33m,\u001b[0m \u001b[0mx_in\u001b[0m\u001b[1;33m,\u001b[0m \u001b[0my_in\u001b[0m\u001b[1;33m,\u001b[0m \u001b[0mmodel\u001b[0m\u001b[1;33m,\u001b[0m \u001b[0mrate\u001b[0m\u001b[1;33m)\u001b[0m\u001b[1;33m\u001b[0m\u001b[1;33m\u001b[0m\u001b[0m\n\u001b[0m\u001b[0;32m      7\u001b[0m     \u001b[0mf\u001b[0m\u001b[1;33m.\u001b[0m\u001b[0mwrite\u001b[0m\u001b[1;33m(\u001b[0m\u001b[0mstr\u001b[0m\u001b[1;33m(\u001b[0m\u001b[1;33m(\u001b[0m\u001b[0mPhi\u001b[0m\u001b[1;33m,\u001b[0m \u001b[0mOmega\u001b[0m\u001b[1;33m,\u001b[0m \u001b[0mPsi\u001b[0m\u001b[1;33m[\u001b[0m\u001b[1;36m0\u001b[0m\u001b[1;33m]\u001b[0m\u001b[1;33m,\u001b[0m \u001b[0mPsi\u001b[0m\u001b[1;33m[\u001b[0m\u001b[1;36m1\u001b[0m\u001b[1;33m]\u001b[0m\u001b[1;33m,\u001b[0m \u001b[0mpD\u001b[0m\u001b[1;33m,\u001b[0m \u001b[0mpM\u001b[0m\u001b[1;33m,\u001b[0m \u001b[0mtau\u001b[0m\u001b[1;33m[\u001b[0m\u001b[1;36m0\u001b[0m\u001b[1;33m]\u001b[0m\u001b[1;33m,\u001b[0m \u001b[0mPsi\u001b[0m\u001b[1;33m[\u001b[0m\u001b[1;36m1\u001b[0m\u001b[1;33m]\u001b[0m\u001b[1;33m,\u001b[0m  \u001b[0mexact_score\u001b[0m\u001b[1;33m)\u001b[0m\u001b[1;33m)\u001b[0m \u001b[1;33m+\u001b[0m \u001b[1;34m\"\\n\"\u001b[0m\u001b[1;33m)\u001b[0m\u001b[1;33m\u001b[0m\u001b[1;33m\u001b[0m\u001b[0m\n\u001b[0;32m      8\u001b[0m \u001b[0mlambda_\u001b[0m\u001b[1;33m[\u001b[0m\u001b[1;36m0\u001b[0m\u001b[1;33m]\u001b[0m \u001b[1;33m=\u001b[0m \u001b[1;36m0.8\u001b[0m\u001b[1;33m\u001b[0m\u001b[1;33m\u001b[0m\u001b[0m\n",
      "\u001b[1;32md:\\Stackelberg-Nash-Data-Market\\exps\\..\\SN\\SN.py\u001b[0m in \u001b[0;36mStackelberg_Nash_DataMarket\u001b[1;34m(x_test, y_test, theta, rho, score, sigma, lambda_, omega, m, N, x_in, y_in, model, omega_rate)\u001b[0m\n\u001b[0;32m    117\u001b[0m     \u001b[1;32mfor\u001b[0m \u001b[0mi\u001b[0m \u001b[1;32min\u001b[0m \u001b[0mrange\u001b[0m\u001b[1;33m(\u001b[0m\u001b[0mm\u001b[0m\u001b[1;33m)\u001b[0m\u001b[1;33m:\u001b[0m\u001b[1;33m\u001b[0m\u001b[1;33m\u001b[0m\u001b[0m\n\u001b[0;32m    118\u001b[0m         \u001b[1;32mfor\u001b[0m \u001b[0mj\u001b[0m \u001b[1;32min\u001b[0m \u001b[0mrange\u001b[0m\u001b[1;33m(\u001b[0m\u001b[0mint\u001b[0m\u001b[1;33m(\u001b[0m\u001b[0mchi\u001b[0m\u001b[1;33m[\u001b[0m\u001b[0mi\u001b[0m\u001b[1;33m]\u001b[0m\u001b[1;33m)\u001b[0m\u001b[1;33m)\u001b[0m\u001b[1;33m:\u001b[0m\u001b[1;33m\u001b[0m\u001b[1;33m\u001b[0m\u001b[0m\n\u001b[1;32m--> 119\u001b[1;33m             \u001b[0mx_train\u001b[0m\u001b[1;33m[\u001b[0m\u001b[0midx\u001b[0m\u001b[1;33m]\u001b[0m \u001b[1;33m=\u001b[0m \u001b[0mOneD_DP\u001b[0m\u001b[1;33m(\u001b[0m\u001b[0mx_in\u001b[0m\u001b[1;33m[\u001b[0m\u001b[0mi\u001b[0m\u001b[1;33m]\u001b[0m\u001b[1;33m[\u001b[0m\u001b[0mj\u001b[0m\u001b[1;33m]\u001b[0m\u001b[1;33m,\u001b[0m \u001b[0mepss\u001b[0m\u001b[1;33m[\u001b[0m\u001b[0mi\u001b[0m\u001b[1;33m]\u001b[0m\u001b[1;33m)\u001b[0m\u001b[1;33m\u001b[0m\u001b[1;33m\u001b[0m\u001b[0m\n\u001b[0m\u001b[0;32m    120\u001b[0m             \u001b[0my_train\u001b[0m\u001b[1;33m[\u001b[0m\u001b[0midx\u001b[0m\u001b[1;33m]\u001b[0m \u001b[1;33m=\u001b[0m \u001b[0my_in\u001b[0m\u001b[1;33m[\u001b[0m\u001b[0mi\u001b[0m\u001b[1;33m]\u001b[0m\u001b[1;33m[\u001b[0m\u001b[0mj\u001b[0m\u001b[1;33m]\u001b[0m \u001b[1;33m+\u001b[0m \u001b[0mLapNoise\u001b[0m\u001b[1;33m(\u001b[0m\u001b[0mepss\u001b[0m\u001b[1;33m[\u001b[0m\u001b[0mi\u001b[0m\u001b[1;33m]\u001b[0m\u001b[1;33m)\u001b[0m\u001b[1;33m\u001b[0m\u001b[1;33m\u001b[0m\u001b[0m\n\u001b[0;32m    121\u001b[0m             \u001b[0midx\u001b[0m \u001b[1;33m+=\u001b[0m \u001b[1;36m1\u001b[0m\u001b[1;33m\u001b[0m\u001b[1;33m\u001b[0m\u001b[0m\n",
      "\u001b[1;31mIndexError\u001b[0m: index 90 is out of bounds for axis 0 with size 90"
     ]
    }
   ],
   "source": [
    "lambda_s = scale2\n",
    "f = open('./res/lambda_scale.txt', 'w+')\n",
    "for now_lambda in lambda_s:\n",
    "    lambda_[0] = now_lambda\n",
    "    Phi, Omega, Psi, ab_omega, pD, pM, tau, exact_score = \\\n",
    "        Stackelberg_Nash_DataMarket(x_test, y_test, theta, rho, score, sigma, lambda_, omega, m, N, x_in, y_in, model, rate)\n",
    "    f.write(str((Phi, Omega, Psi[0], Psi[1], pD, pM, tau[0], Psi[1],  exact_score)) + \"\\n\")\n",
    "lambda_[0] = 0.8\n",
    "f.close()"
   ]
  },
  {
   "cell_type": "code",
   "execution_count": null,
   "metadata": {},
   "outputs": [
    {
     "name": "stdout",
     "output_type": "stream",
     "text": [
      "0.1\n",
      "0.2\n",
      "0.3\n",
      "0.4\n",
      "0.5\n",
      "0.6\n"
     ]
    }
   ],
   "source": [
    "omegas = [0.1, 0.2, 0.3, 0.4, 0.5, 0.6]\n",
    "f = open('./res/omega_scale.txt', 'w+')\n",
    "for now_omega in omegas:\n",
    "    omega[0] = now_omega\n",
    "    print(now_omega)\n",
    "    Phi, Omega, Psi, ab_omega, pD, pM, tau, exact_score = \\\n",
    "        Stackelberg_Nash_DataMarket(x_test, y_test, theta, rho, score, sigma, lambda_, omega, m, N, x_in, y_in, model, rate)\n",
    "    f.write(str((Phi, Omega, Psi[0], Psi[1], pD, pM, tau[0], Psi[1],  exact_score)) + \"\\n\")\n",
    "omega[0] = 0.8\n",
    "f.close()"
   ]
  }
 ],
 "metadata": {
  "interpreter": {
   "hash": "7b4b4feff2f24a0f0a34464dbe537a36fda679851528fb8735cb41fa49dffb2d"
  },
  "kernelspec": {
   "display_name": "Python 3.9.7 ('base')",
   "language": "python",
   "name": "python3"
  },
  "language_info": {
   "codemirror_mode": {
    "name": "ipython",
    "version": 3
   },
   "file_extension": ".py",
   "mimetype": "text/x-python",
   "name": "python",
   "nbconvert_exporter": "python",
   "pygments_lexer": "ipython3",
   "version": "3.9.7"
  },
  "orig_nbformat": 4
 },
 "nbformat": 4,
 "nbformat_minor": 2
}
