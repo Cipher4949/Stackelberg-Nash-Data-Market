{
 "cells": [
  {
   "cell_type": "code",
   "execution_count": null,
   "metadata": {},
   "outputs": [],
   "source": [
    "import sys\n",
    "sys.path.append(\"..\")\n",
    "from SN.SN import Stackelberg_Nash_DataMarket\n",
    "from sklearn import svm, linear_model\n",
    "from data_processor.data_utils import preprocess_data_forSN, load_npy\n",
    "import numpy as np"
   ]
  },
  {
   "cell_type": "code",
   "execution_count": null,
   "metadata": {},
   "outputs": [],
   "source": [
    "m = 100\n",
    "N = m * 5\n",
    "x_in, y_in, x_test, y_test = preprocess_data_forSN('seller_in2.csv', 'seller_test.csv', m, 90)\n",
    "theta = np.zeros(3)\n",
    "theta[1] = 0.5\n",
    "theta[2] = 1 - theta[1]\n",
    "rho = np.zeros(3)\n",
    "rho[1] = 0.5 * N\n",
    "rho[2] = 0.5\n",
    "score = 0.8\n",
    "sigma = np.zeros((4, 3))\n",
    "sigma_id = [(0, 0), (1, 0), (2, 0), (1, 1), (3, 0)]\n",
    "for id in sigma_id:\n",
    "    sigma[id] = 0.5\n",
    "lambda_ = np.zeros(m)\n",
    "omega = load_npy(\"omega_cons1.npy\")\n",
    "for i in range(m):\n",
    "    lambda_[i] = 0.5\n",
    "model = linear_model.LinearRegression()\n",
    "rate = 0.2"
   ]
  },
  {
   "cell_type": "code",
   "execution_count": null,
   "metadata": {},
   "outputs": [],
   "source": [
    "thetas = [0.1, 0.2, 0.3, 0.4, 0.5, 0.6, 0.7, 0.8, 0.9]\n",
    "for now_theta in thetas:\n",
    "    theta[1] = now_theta\n",
    "    theta[2] = 1 - theta[1]\n",
    "    Phi, Omega, Psi, ab_omega, pD, pM, tau, exact_score = \\\n",
    "        Stackelberg_Nash_DataMarket(x_test, y_test, theta, rho, score, sigma, lambda_, omega, m, N, x_in, y_in, model, rate)\n",
    "    print(Phi, Omega, \"\\n\", Psi, \"\\n\", pD, pM, \"\\n\", tau, \"\\n\", exact_score, \"\\n\")\n",
    "theta[1] = 0.5\n",
    "theta[2] = 1 - theta[1]"
   ]
  },
  {
   "cell_type": "code",
   "execution_count": null,
   "metadata": {},
   "outputs": [],
   "source": [
    "rhos = [0.1, 0.2, 0.3, 0.4, 0.5, 0.6, 0.7, 0.8, 0.9]\n",
    "for now_rho1 in rhos:\n",
    "    rho[1] = now_rho1\n",
    "    Phi, Omega, Psi, ab_omega, pD, pM, tau, exact_score = \\\n",
    "        Stackelberg_Nash_DataMarket(x_test, y_test, theta, rho, score, sigma, lambda_, omega, m, N, x_in, y_in, model, rate)\n",
    "    print(Phi, Omega, \"\\n\", Psi, \"\\n\", pD, pM, \"\\n\", tau, \"\\n\", exact_score, \"\\n\")\n",
    "rho[1] = 0.5 * N\n",
    "\n",
    "for now_rho2 in rhos:\n",
    "    rho[2] = now_rho2\n",
    "    Phi, Omega, Psi, ab_omega, pD, pM, tau, exact_score = \\\n",
    "        Stackelberg_Nash_DataMarket(x_test, y_test, theta, rho, score, sigma, lambda_, omega, m, N, x_in, y_in, model, rate)\n",
    "    print(Phi, Omega, \"\\n\", Psi, \"\\n\", pD, pM, \"\\n\", tau, \"\\n\", exact_score, \"\\n\")\n",
    "rho[2] = 0.5"
   ]
  },
  {
   "cell_type": "code",
   "execution_count": null,
   "metadata": {},
   "outputs": [],
   "source": [
    "scores = [0.1, 0.2, 0.3, 0.4, 0.5, 0.6, 0.7, 0.8, 0.9]\n",
    "for now_score in scores:\n",
    "    score = now_score\n",
    "    Phi, Omega, Psi, ab_omega, pD, pM, tau, exact_score = \\\n",
    "        Stackelberg_Nash_DataMarket(x_test, y_test, theta, rho, score, sigma, lambda_, omega, m, N, x_in, y_in, model, rate)\n",
    "    print(Phi, Omega, \"\\n\", Psi, \"\\n\", pD, pM, \"\\n\", tau, \"\\n\", exact_score, \"\\n\")\n",
    "score = 0.8"
   ]
  },
  {
   "cell_type": "code",
   "execution_count": null,
   "metadata": {},
   "outputs": [],
   "source": [
    "sigmas = [0.1, 0.2, 0.3, 0.4, 0.5, 0.6, 0.7, 0.8, 0.9]\n",
    "for id in sigma_id:\n",
    "    for now_sigma in sigmas:\n",
    "        sigma[id] = now_sigma\n",
    "        Phi, Omega, Psi, ab_omega, pD, pM, tau, exact_score = \\\n",
    "            Stackelberg_Nash_DataMarket(x_test, y_test, theta, rho, score, sigma, lambda_, omega, m, N, x_in, y_in, model, rate)\n",
    "        print(Phi, Omega, \"\\n\", Psi, \"\\n\", pD, pM, \"\\n\", tau, \"\\n\", exact_score, \"\\n\")\n",
    "    sigma[id] = 0.5"
   ]
  },
  {
   "cell_type": "code",
   "execution_count": 6,
   "metadata": {},
   "outputs": [
    {
     "name": "stdout",
     "output_type": "stream",
     "text": [
      "2.0\n"
     ]
    }
   ],
   "source": [
    "lambda_s = [0.1, 0.2, 0.3, 0.4, 0.5, 0.6, 0.7, 0.8, 0.9]\n",
    "for now_lambda in lambda_s:\n",
    "    lambda_[0] = now_lambda\n",
    "    Phi, Omega, Psi, ab_omega, pD, pM, tau, exact_score = \\\n",
    "        Stackelberg_Nash_DataMarket(x_test, y_test, theta, rho, score, sigma, lambda_, omega, m, N, x_in, y_in, model, rate)\n",
    "    print(Phi, Omega, \"\\n\", Psi, \"\\n\", pD, pM, \"\\n\", tau, \"\\n\", exact_score, \"\\n\")\n",
    "lambda_[0] = 0.8"
   ]
  }
 ],
 "metadata": {
  "interpreter": {
   "hash": "7b4b4feff2f24a0f0a34464dbe537a36fda679851528fb8735cb41fa49dffb2d"
  },
  "kernelspec": {
   "display_name": "Python 3.9.7 ('base')",
   "language": "python",
   "name": "python3"
  },
  "language_info": {
   "codemirror_mode": {
    "name": "ipython",
    "version": 3
   },
   "file_extension": ".py",
   "mimetype": "text/x-python",
   "name": "python",
   "nbconvert_exporter": "python",
   "pygments_lexer": "ipython3",
   "version": "3.9.7"
  },
  "orig_nbformat": 4
 },
 "nbformat": 4,
 "nbformat_minor": 2
}
