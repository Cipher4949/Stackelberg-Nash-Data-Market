{
 "cells": [
  {
   "cell_type": "code",
   "execution_count": 1,
   "metadata": {},
   "outputs": [],
   "source": [
    "import sys\n",
    "sys.path.append(\"..\")\n",
    "from SN.SN import Stackelberg_Nash_DataMarket\n",
    "from sklearn import svm, linear_model\n",
    "from data_processor.data_utils import preprocess_data_forSN, load_npy\n",
    "import numpy as np"
   ]
  },
  {
   "cell_type": "code",
   "execution_count": 2,
   "metadata": {},
   "outputs": [],
   "source": [
    "m = 100\n",
    "N = m * 5\n",
    "x_in, y_in, x_test, y_test = preprocess_data_forSN('seller_in2.csv', 'seller_test.csv', m, 90)\n",
    "theta = np.zeros(3)\n",
    "theta[1] = 0.5\n",
    "theta[2] = 1 - theta[1]\n",
    "rho = np.zeros(3)\n",
    "rho[1] = 0.5\n",
    "rho[2] = 0.5 * N\n",
    "score = 0.8\n",
    "sigma = np.zeros((4, 3))\n",
    "sigma_id = [(0, 0), (1, 0), (2, 0), (3, 0)]\n",
    "sigma_id2 = [(1, 1), (2, 2)]\n",
    "sigma[0][0] = 0.001\n",
    "sigma[1][0] = -2\n",
    "sigma[1][1] = 0.001\n",
    "sigma[2][0] = -3\n",
    "sigma[2][2] = 0.002\n",
    "sigma[3][0] = 0.001\n",
    "lambda_ = np.zeros(m)\n",
    "omega = load_npy(\"omega_random.npy\")\n",
    "for i in range(m):\n",
    "    lambda_[i] = 0.5\n",
    "model = linear_model.LinearRegression()\n",
    "rate = 0.2\n",
    "scale = [1e-3, 1e-2, 0.1, 1., 10., 1e2, 1e3, 1e4, 1e5, 1e6, 1e7]\n",
    "scale2 = [1e4, 1e3, 1e2, 1e1, 1, 0.1, 1e-2]\n",
    "scale3 = [0.1, 0.09, 0.08, 0.07, 0.06, 0.05, 0.04, 0.03, 0.02, 0.01, \\\n",
    "        -0.01, -0.02, -0.03, -0.04, -0.05, -0.06, -0.07, -0.08, -0.09]"
   ]
  },
  {
   "cell_type": "code",
   "execution_count": 3,
   "metadata": {},
   "outputs": [],
   "source": [
    "thetas = [0.1, 0.2, 0.3, 0.4, 0.5, 0.6, 0.7, 0.8, 0.9]\n",
    "f = open('./res/theta_scale.txt', 'w+')\n",
    "for now_theta in thetas:\n",
    "    theta[1] = now_theta\n",
    "    theta[2] = 1 - theta[1]\n",
    "    Phi, Omega, Psi, ab_omega, pD, pM, tau, exact_score = \\\n",
    "        Stackelberg_Nash_DataMarket(x_test, y_test, theta, rho, score, sigma, lambda_, omega, m, N, x_in, y_in, model, rate)\n",
    "    f.write(str((Phi, Omega, Psi[0], pD, pM, tau[0],  exact_score)) + \"\\n\")\n",
    "theta[1] = 0.5\n",
    "theta[2] = 1 - theta[1]\n",
    "f.close()"
   ]
  },
  {
   "cell_type": "code",
   "execution_count": 4,
   "metadata": {},
   "outputs": [],
   "source": [
    "rhos = scale\n",
    "f = open('./res/rho1_scale.txt', 'w+')\n",
    "for now_rho1 in rhos:\n",
    "    rho[1] = now_rho1\n",
    "    Phi, Omega, Psi, ab_omega, pD, pM, tau, exact_score = \\\n",
    "        Stackelberg_Nash_DataMarket(x_test, y_test, theta, rho, score, sigma, lambda_, omega, m, N, x_in, y_in, model, rate)\n",
    "    f.write(str((Phi, Omega, Psi[0], pD, pM, tau[0],  exact_score)) + \"\\n\")\n",
    "f.close()\n",
    "rho[1] = 0.5\n",
    "\n",
    "f = open('./res/rho2_scale.txt', 'w+')\n",
    "for now_rho2 in rhos:\n",
    "    rho[2] = now_rho2 * N\n",
    "    Phi, Omega, Psi, ab_omega, pD, pM, tau, exact_score = \\\n",
    "        Stackelberg_Nash_DataMarket(x_test, y_test, theta, rho, score, sigma, lambda_, omega, m, N, x_in, y_in, model, rate)\n",
    "    f.write(str((Phi, Omega, Psi[0], pD, pM, tau[0],  exact_score)) + \"\\n\")\n",
    "rho[2] = 0.5 * N\n",
    "f.close()"
   ]
  },
  {
   "cell_type": "code",
   "execution_count": 5,
   "metadata": {},
   "outputs": [],
   "source": [
    "scores = [0.1, 0.2, 0.3, 0.4, 0.5, 0.6, 0.7, 0.8, 0.9]\n",
    "f = open('./res/score_scale.txt', 'w+')\n",
    "for now_score in scores:\n",
    "    score = now_score\n",
    "    Phi, Omega, Psi, ab_omega, pD, pM, tau, exact_score = \\\n",
    "        Stackelberg_Nash_DataMarket(x_test, y_test, theta, rho, score, sigma, lambda_, omega, m, N, x_in, y_in, model, rate)\n",
    "    f.write(str((Phi, Omega, Psi[0], pD, pM, tau[0],  exact_score)) + \"\\n\")\n",
    "score = 0.8\n",
    "f.close()"
   ]
  },
  {
   "cell_type": "code",
   "execution_count": 6,
   "metadata": {},
   "outputs": [],
   "source": [
    "sigmas = np.asarray(scale3) / 10\n",
    "for id in sigma_id:\n",
    "    f = open('./res/sigma' + str(id) + '_scale3 .txt', 'w+')\n",
    "    for now_sigma in sigmas:\n",
    "        sigma[id] = now_sigma\n",
    "        Phi, Omega, Psi, ab_omega, pD, pM, tau, exact_score = \\\n",
    "            Stackelberg_Nash_DataMarket(x_test, y_test, theta, rho, score, sigma, lambda_, omega, m, N, x_in, y_in, model, rate)\n",
    "        f.write(str((Phi, Omega, Psi[0], pD, pM, tau[0],  exact_score)) + \"\\n\")\n",
    "    sigma[0][0] = 0.001\n",
    "    sigma[1][0] = -2\n",
    "    sigma[1][1] = 0.001\n",
    "    sigma[2][0] = -3\n",
    "    sigma[2][2] = 0.002\n",
    "    sigma[3][0] = 0.001\n",
    "    f.close()\n",
    "\n",
    "sigmas = np.asarray(scale3) * 100\n",
    "for id in sigma_id2:\n",
    "    f = open('./res/sigma' + str(id) + '_scale3 .txt', 'w+')\n",
    "    for now_sigma in sigmas:\n",
    "        sigma[id] = now_sigma\n",
    "        Phi, Omega, Psi, ab_omega, pD, pM, tau, exact_score = \\\n",
    "            Stackelberg_Nash_DataMarket(x_test, y_test, theta, rho, score, sigma, lambda_, omega, m, N, x_in, y_in, model, rate)\n",
    "        f.write(str((Phi, Omega, Psi[0], pD, pM, tau[0],  exact_score)) + \"\\n\")\n",
    "    sigma[0][0] = 0.001\n",
    "    sigma[1][0] = -2\n",
    "    sigma[1][1] = 0.001\n",
    "    sigma[2][0] = -3\n",
    "    sigma[2][2] = 0.002\n",
    "    sigma[3][0] = 0.001\n",
    "    f.close()"
   ]
  },
  {
   "cell_type": "code",
   "execution_count": 7,
   "metadata": {},
   "outputs": [],
   "source": [
    "lambda_s = scale2\n",
    "f = open('./res/lambda_scale.txt', 'w+')\n",
    "for now_lambda in lambda_s:\n",
    "    lambda_[0] = now_lambda\n",
    "    Phi, Omega, Psi, ab_omega, pD, pM, tau, exact_score = \\\n",
    "        Stackelberg_Nash_DataMarket(x_test, y_test, theta, rho, score, sigma, lambda_, omega, m, N, x_in, y_in, model, rate)\n",
    "    f.write(str((Phi, Omega, Psi[0], Psi[1], pD, pM, tau[0], tau[1],  exact_score)) + \"\\n\")\n",
    "lambda_[0] = 0.8\n",
    "f.close()"
   ]
  },
  {
   "cell_type": "code",
   "execution_count": 8,
   "metadata": {},
   "outputs": [],
   "source": [
    "omegas = [0.1, 0.2, 0.3, 0.4, 0.5, 0.6]\n",
    "f = open('./res/omega_scale.txt', 'w+')\n",
    "for now_omega in omegas:\n",
    "    omega[0] = now_omega\n",
    "    Phi, Omega, Psi, ab_omega, pD, pM, tau, exact_score = \\\n",
    "        Stackelberg_Nash_DataMarket(x_test, y_test, theta, rho, score, sigma, lambda_, omega, m, N, x_in, y_in, model, rate)\n",
    "    f.write(str((Phi, Omega, Psi[0], Psi[1], pD, pM, tau[0], tau[1],  exact_score)) + \"\\n\")\n",
    "omega[0] = 0.8\n",
    "f.close()"
   ]
  }
 ],
 "metadata": {
  "interpreter": {
   "hash": "7b4b4feff2f24a0f0a34464dbe537a36fda679851528fb8735cb41fa49dffb2d"
  },
  "kernelspec": {
   "display_name": "Python 3.9.7 ('base')",
   "language": "python",
   "name": "python3"
  },
  "language_info": {
   "codemirror_mode": {
    "name": "ipython",
    "version": 3
   },
   "file_extension": ".py",
   "mimetype": "text/x-python",
   "name": "python",
   "nbconvert_exporter": "python",
   "pygments_lexer": "ipython3",
   "version": "3.9.7"
  },
  "orig_nbformat": 4
 },
 "nbformat": 4,
 "nbformat_minor": 2
}
