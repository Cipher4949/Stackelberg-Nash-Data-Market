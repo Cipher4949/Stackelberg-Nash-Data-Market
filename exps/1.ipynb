{
 "cells": [
  {
   "cell_type": "code",
   "execution_count": 3,
   "metadata": {},
   "outputs": [],
   "source": [
    "import sys\n",
    "sys.path.append(\"..\")\n",
    "from SN.SN import Stackelberg_Nash_DataMarket\n",
    "from sklearn import svm, linear_model\n",
    "from data_processor.data_utils import preprocess_data_forSN, save_npy\n",
    "import random\n",
    "import numpy as np\n",
    "\n",
    "def check_delta(last, new, eps):\n",
    "    ratio = new / last\n",
    "    return ratio > (1-eps) and ratio < (1 + eps)\n",
    "\n",
    "def check_all(lasts, news, eps):\n",
    "    for i in range(len(lasts)):\n",
    "        if not check_delta(lasts[i], news[i], eps):\n",
    "            return False\n",
    "    return True"
   ]
  },
  {
   "cell_type": "code",
   "execution_count": 4,
   "metadata": {},
   "outputs": [
    {
     "ename": "IndexError",
     "evalue": "index 50 is out of bounds for axis 0 with size 50",
     "output_type": "error",
     "traceback": [
      "\u001b[1;31m---------------------------------------------------------------------------\u001b[0m",
      "\u001b[1;31mIndexError\u001b[0m                                Traceback (most recent call last)",
      "\u001b[1;32mC:\\Users\\OPTIPL~1\\AppData\\Local\\Temp/ipykernel_5644/2971168576.py\u001b[0m in \u001b[0;36m<module>\u001b[1;34m\u001b[0m\n\u001b[0;32m     29\u001b[0m \u001b[1;32mwhile\u001b[0m \u001b[0mT\u001b[0m \u001b[1;33m<\u001b[0m \u001b[0mmax_round\u001b[0m \u001b[1;32mor\u001b[0m \u001b[0mcheck_all\u001b[0m\u001b[1;33m(\u001b[0m\u001b[1;33m[\u001b[0m\u001b[0mlast_Phi\u001b[0m\u001b[1;33m,\u001b[0m \u001b[0mlast_Omega\u001b[0m\u001b[1;33m,\u001b[0m \u001b[0mlast_Psi\u001b[0m\u001b[1;33m]\u001b[0m\u001b[1;33m,\u001b[0m \u001b[1;33m[\u001b[0m\u001b[0mnew_Phi\u001b[0m\u001b[1;33m,\u001b[0m \u001b[0mnew_Omega\u001b[0m\u001b[1;33m,\u001b[0m \u001b[0mnew_Psi\u001b[0m\u001b[1;33m]\u001b[0m\u001b[1;33m,\u001b[0m \u001b[0meps\u001b[0m\u001b[1;33m)\u001b[0m\u001b[1;33m:\u001b[0m\u001b[1;33m\u001b[0m\u001b[1;33m\u001b[0m\u001b[0m\n\u001b[0;32m     30\u001b[0m     \u001b[0mtmp_Phi\u001b[0m\u001b[1;33m,\u001b[0m \u001b[0mtmp_Omega\u001b[0m\u001b[1;33m,\u001b[0m \u001b[0mtmp_Psi\u001b[0m\u001b[1;33m,\u001b[0m \u001b[0momega\u001b[0m \u001b[1;33m=\u001b[0m\u001b[0;31m \u001b[0m\u001b[0;31m\\\u001b[0m\u001b[1;33m\u001b[0m\u001b[1;33m\u001b[0m\u001b[0m\n\u001b[1;32m---> 31\u001b[1;33m         \u001b[0mStackelberg_Nash_DataMarket\u001b[0m\u001b[1;33m(\u001b[0m\u001b[0mx_test\u001b[0m\u001b[1;33m,\u001b[0m \u001b[0my_test\u001b[0m\u001b[1;33m,\u001b[0m \u001b[0mtheta1\u001b[0m\u001b[1;33m,\u001b[0m \u001b[0mtheta2\u001b[0m\u001b[1;33m,\u001b[0m \u001b[0mrho1\u001b[0m\u001b[1;33m,\u001b[0m \u001b[0mrho2\u001b[0m\u001b[1;33m,\u001b[0m \u001b[0macc\u001b[0m\u001b[1;33m,\u001b[0m \u001b[0msigma1\u001b[0m\u001b[1;33m,\u001b[0m \u001b[0msigma2\u001b[0m\u001b[1;33m,\u001b[0m \u001b[0mlambda_\u001b[0m\u001b[1;33m,\u001b[0m \u001b[0momega\u001b[0m\u001b[1;33m,\u001b[0m \u001b[0mm\u001b[0m\u001b[1;33m,\u001b[0m \u001b[0mN\u001b[0m\u001b[1;33m,\u001b[0m \u001b[0mx_in\u001b[0m\u001b[1;33m,\u001b[0m \u001b[0my_in\u001b[0m\u001b[1;33m,\u001b[0m \u001b[0mmodel\u001b[0m\u001b[1;33m)\u001b[0m\u001b[1;33m\u001b[0m\u001b[1;33m\u001b[0m\u001b[0m\n\u001b[0m\u001b[0;32m     32\u001b[0m     \u001b[0mlast_Phi\u001b[0m\u001b[1;33m,\u001b[0m \u001b[0mlast_Omega\u001b[0m\u001b[1;33m,\u001b[0m \u001b[0mlast_Psi\u001b[0m \u001b[1;33m=\u001b[0m \u001b[0mnew_Phi\u001b[0m\u001b[1;33m,\u001b[0m \u001b[0mnew_Omega\u001b[0m\u001b[1;33m,\u001b[0m \u001b[0mnew_Psi\u001b[0m\u001b[1;33m\u001b[0m\u001b[1;33m\u001b[0m\u001b[0m\n\u001b[0;32m     33\u001b[0m     \u001b[0mnew_Phi\u001b[0m\u001b[1;33m,\u001b[0m \u001b[0mnew_Omega\u001b[0m\u001b[1;33m,\u001b[0m \u001b[0mnew_Psi\u001b[0m \u001b[1;33m=\u001b[0m \u001b[0mtmp_Phi\u001b[0m\u001b[1;33m,\u001b[0m \u001b[0mtmp_Omega\u001b[0m\u001b[1;33m,\u001b[0m \u001b[0mtmp_Psi\u001b[0m\u001b[1;33m\u001b[0m\u001b[1;33m\u001b[0m\u001b[0m\n",
      "\u001b[1;32md:\\Stackelberg-Nash-Data-Market\\exps\\..\\SN\\SN.py\u001b[0m in \u001b[0;36mStackelberg_Nash_DataMarket\u001b[1;34m(x_test, y_test, theta1, theta2, rho1, rho2, acc, sigma1, sigma2, lambda_, omega, m, N, x_in, y_in, model)\u001b[0m\n\u001b[0;32m    113\u001b[0m     \u001b[1;32mfor\u001b[0m \u001b[0mi\u001b[0m \u001b[1;32min\u001b[0m \u001b[0mrange\u001b[0m\u001b[1;33m(\u001b[0m\u001b[0mm\u001b[0m\u001b[1;33m)\u001b[0m\u001b[1;33m:\u001b[0m\u001b[1;33m\u001b[0m\u001b[1;33m\u001b[0m\u001b[0m\n\u001b[0;32m    114\u001b[0m         \u001b[1;32mfor\u001b[0m \u001b[0mj\u001b[0m \u001b[1;32min\u001b[0m \u001b[0mrange\u001b[0m\u001b[1;33m(\u001b[0m\u001b[0mint\u001b[0m\u001b[1;33m(\u001b[0m\u001b[0mchi\u001b[0m\u001b[1;33m[\u001b[0m\u001b[0mi\u001b[0m\u001b[1;33m]\u001b[0m\u001b[1;33m)\u001b[0m\u001b[1;33m)\u001b[0m\u001b[1;33m:\u001b[0m\u001b[1;33m\u001b[0m\u001b[1;33m\u001b[0m\u001b[0m\n\u001b[1;32m--> 115\u001b[1;33m             \u001b[0mx_train\u001b[0m\u001b[1;33m[\u001b[0m\u001b[0midx\u001b[0m\u001b[1;33m]\u001b[0m \u001b[1;33m=\u001b[0m \u001b[0mOneD_DP\u001b[0m\u001b[1;33m(\u001b[0m\u001b[0mx_in\u001b[0m\u001b[1;33m[\u001b[0m\u001b[0mi\u001b[0m\u001b[1;33m]\u001b[0m\u001b[1;33m[\u001b[0m\u001b[0mj\u001b[0m\u001b[1;33m]\u001b[0m\u001b[1;33m,\u001b[0m \u001b[0mepss\u001b[0m\u001b[1;33m[\u001b[0m\u001b[0mi\u001b[0m\u001b[1;33m]\u001b[0m\u001b[1;33m)\u001b[0m\u001b[1;33m\u001b[0m\u001b[1;33m\u001b[0m\u001b[0m\n\u001b[0m\u001b[0;32m    116\u001b[0m             \u001b[0my_train\u001b[0m\u001b[1;33m[\u001b[0m\u001b[0midx\u001b[0m\u001b[1;33m]\u001b[0m \u001b[1;33m=\u001b[0m \u001b[0my_in\u001b[0m\u001b[1;33m[\u001b[0m\u001b[0mi\u001b[0m\u001b[1;33m]\u001b[0m\u001b[1;33m[\u001b[0m\u001b[0mj\u001b[0m\u001b[1;33m]\u001b[0m \u001b[1;33m+\u001b[0m \u001b[0mLapNoise\u001b[0m\u001b[1;33m(\u001b[0m\u001b[0mepss\u001b[0m\u001b[1;33m[\u001b[0m\u001b[0mi\u001b[0m\u001b[1;33m]\u001b[0m\u001b[1;33m)\u001b[0m\u001b[1;33m\u001b[0m\u001b[1;33m\u001b[0m\u001b[0m\n\u001b[0;32m    117\u001b[0m             \u001b[0midx\u001b[0m \u001b[1;33m+=\u001b[0m \u001b[1;36m1\u001b[0m\u001b[1;33m\u001b[0m\u001b[1;33m\u001b[0m\u001b[0m\n",
      "\u001b[1;31mIndexError\u001b[0m: index 50 is out of bounds for axis 0 with size 50"
     ]
    }
   ],
   "source": [
    "max_round = 100\n",
    "eps = 0.01\n",
    "last_Phi = last_Omega = last_Psi = 1.0\n",
    "new_Phi = new_Omega = new_Psi = -1.0\n",
    "T = 0\n",
    "\n",
    "#x_test = None\n",
    "#y_test = None\n",
    "#x_in = None\n",
    "#y_in = None\n",
    "m = 50\n",
    "N = m * 4\n",
    "x_in, y_in, x_test, y_test = preprocess_data_forSN('seller_in.csv', 'seller_test.csv', m, 100)\n",
    "\n",
    "theta1 = random.random()\n",
    "theta2 = 1 - theta1\n",
    "rho1 = random.random()\n",
    "rho2 = random.random()\n",
    "acc = 0.8\n",
    "sigma1 = random.random()\n",
    "sigma2 = random.random()\n",
    "lambda_ = np.zeros(m)\n",
    "omega = np.zeros(m)\n",
    "for i in range(m):\n",
    "    lambda_[i] = random.random()\n",
    "    omega[i] = 1\n",
    "model = linear_model.LinearRegression()\n",
    "\n",
    "while T < max_round or check_all([last_Phi, last_Omega, last_Psi], [new_Phi, new_Omega, new_Psi], eps):\n",
    "    tmp_Phi, tmp_Omega, tmp_Psi, omega = \\\n",
    "        Stackelberg_Nash_DataMarket(x_test, y_test, theta1, theta2, rho1, rho2, acc, sigma1, sigma2, lambda_, omega, m, N, x_in, y_in, model)\n",
    "    last_Phi, last_Omega, last_Psi = new_Phi, new_Omega, new_Psi\n",
    "    new_Phi, new_Omega, new_Psi = tmp_Phi, tmp_Omega, tmp_Psi\n",
    "\n",
    "save_npy('omega_cons1.npy', omega)\n"
   ]
  },
  {
   "cell_type": "code",
   "execution_count": null,
   "metadata": {},
   "outputs": [],
   "source": [
    "max_round = 100\n",
    "eps = 0.01\n",
    "last_Phi = last_Omega = last_Psi = 1.0\n",
    "new_Phi = new_Omega = new_Psi = -1.0\n",
    "T = 0\n",
    "\n",
    "#x_test = None\n",
    "#y_test = None\n",
    "#x_in = None\n",
    "#y_in = None\n",
    "m = 50\n",
    "N = m * 4\n",
    "x_in, y_in, x_test, y_test = preprocess_data_forSN('seller_in.csv', 'seller_test.csv', m, 100)\n",
    "\n",
    "theta1 = random.random()\n",
    "theta2 = 1 - theta1\n",
    "rho1 = random.random()\n",
    "rho2 = random.random()\n",
    "acc = 0.8\n",
    "sigma1 = random.random()\n",
    "sigma2 = random.random()\n",
    "lambda_ = np.zeros(m)\n",
    "omega = np.zeros(m)\n",
    "for i in range(m):\n",
    "    lambda_[i] = random.random()\n",
    "    omega[i] = random.random()\n",
    "model = linear_model.LinearRegression()\n",
    "\n",
    "while T < max_round or check_all([last_Phi, last_Omega, last_Psi], [new_Phi, new_Omega, new_Psi], eps):\n",
    "    tmp_Phi, tmp_Omega, tmp_Psi, omega = \\\n",
    "        Stackelberg_Nash_DataMarket(x_test, y_test, theta1, theta2, rho1, rho2, acc, sigma1, sigma2, lambda_, omega, m, N, x_in, y_in, model)\n",
    "    last_Phi, last_Omega, last_Psi = new_Phi, new_Omega, new_Psi\n",
    "    new_Phi, new_Omega, new_Psi = tmp_Phi, tmp_Omega, tmp_Psi\n",
    "\n",
    "save_npy('omega_random.npy', omega)\n"
   ]
  }
 ],
 "metadata": {
  "interpreter": {
   "hash": "7b4b4feff2f24a0f0a34464dbe537a36fda679851528fb8735cb41fa49dffb2d"
  },
  "kernelspec": {
   "display_name": "Python 3.9.7 ('base')",
   "language": "python",
   "name": "python3"
  },
  "language_info": {
   "codemirror_mode": {
    "name": "ipython",
    "version": 3
   },
   "file_extension": ".py",
   "mimetype": "text/x-python",
   "name": "python",
   "nbconvert_exporter": "python",
   "pygments_lexer": "ipython3",
   "version": "3.9.7"
  },
  "orig_nbformat": 4
 },
 "nbformat": 4,
 "nbformat_minor": 2
}
