{
 "cells": [
  {
   "cell_type": "code",
   "execution_count": 1,
   "metadata": {},
   "outputs": [],
   "source": [
    "import sys\n",
    "sys.path.append(\"..\")\n",
    "from SN.SN import Stackelberg_Nash_DataMarket\n",
    "from sklearn import svm, linear_model\n",
    "from data_processor.data_utils import preprocess_data_forSN, save_npy\n",
    "import random\n",
    "import numpy as np\n",
    "\n",
    "def check_delta(last, new, eps):\n",
    "    ratio = new / last\n",
    "    return ratio > (1-eps) and ratio < (1 + eps)\n",
    "\n",
    "def check_all(lasts, news, eps):\n",
    "    for i in range(len(lasts)):\n",
    "        if not check_delta(lasts[i], news[i], eps):\n",
    "            return False\n",
    "    return True"
   ]
  },
  {
   "cell_type": "code",
   "execution_count": 2,
   "metadata": {},
   "outputs": [
    {
     "name": "stdout",
     "output_type": "stream",
     "text": [
      "[0.91377991 0.91775981 0.91001725 0.91368691 1.         0.91760493\n",
      " 0.92116493 0.91661789 0.91905225 0.68919929]\n",
      "[0.86251988 0.85509675 0.85977135 0.85665533 0.89568124 1.\n",
      " 0.85641245 0.85315307 0.59762766 0.85674666]\n",
      "[0.75082506 0.49926997 0.74523901 0.74978654 0.7501806  0.74971564\n",
      " 1.         0.74817115 0.74842057 0.7516259 ]\n",
      "[0.90018157 0.91515133 0.9116363  0.91854742 0.85247046 0.89850117\n",
      " 0.89933137 0.8999615  0.8930878  1.        ]\n",
      "[0.89430177 0.68275446 0.94418081 0.89671208 0.90342853 1.\n",
      " 0.75842938 0.88843601 0.89722589 0.80925803]\n",
      "[0.71351168 0.718221   0.71059162 0.72139941 0.64575836 0.72812697\n",
      " 0.7101319  1.         0.71240683 0.71315302]\n",
      "[0.86308318 0.86263311 1.         0.86330638 0.86641808 0.71885768\n",
      " 0.86260982 0.86272263 0.8624931  0.86219385]\n"
     ]
    }
   ],
   "source": [
    "max_round = 1000\n",
    "eps = 0.01\n",
    "last_Phi = last_Omega = last_Psi = 1.0\n",
    "new_Phi = new_Omega = new_Psi = -1.0\n",
    "T = 0\n",
    "\n",
    "#x_test = None\n",
    "#y_test = None\n",
    "#x_in = None\n",
    "#y_in = None\n",
    "m = 10\n",
    "N = m * 5\n",
    "x_in, y_in, x_test, y_test = preprocess_data_forSN('seller_in.csv', 'seller_test.csv', m, 500)\n",
    "\n",
    "theta = np.zeros(3)\n",
    "theta[1] = random.random()\n",
    "theta[2] = 1 - theta[1]\n",
    "rho = np.zeros(3)\n",
    "rho[1] = random.random()\n",
    "rho[2] = random.random()\n",
    "acc = 0.8\n",
    "sigma = np.zeros((4, 3))\n",
    "sigma[0][0] = random.random()\n",
    "sigma[1][0] = random.random()\n",
    "sigma[2][0] = random.random()\n",
    "sigma[1][1] = random.random()\n",
    "sigma[3][0] = random.random()\n",
    "lambda_ = np.zeros(m)\n",
    "omega = np.zeros(m)\n",
    "for i in range(m):\n",
    "    lambda_[i] = random.random()\n",
    "    omega[i] = 1\n",
    "model = linear_model.LinearRegression()\n",
    "\n",
    "while T < max_round or check_all([last_Phi, last_Omega, last_Psi], [new_Phi, new_Omega, new_Psi], eps):\n",
    "    tmp_Phi, tmp_Omega, tmp_Psi, omega = \\\n",
    "        Stackelberg_Nash_DataMarket(x_test, y_test, theta, rho, acc, sigma, lambda_, omega, m, N, x_in, y_in, model)\n",
    "    last_Phi, last_Omega, last_Psi = new_Phi, new_Omega, new_Psi\n",
    "    new_Phi, new_Omega, new_Psi = tmp_Phi, tmp_Omega, tmp_Psi\n",
    "    print(omega)\n",
    "\n",
    "save_npy('omega_cons1.npy', omega)\n"
   ]
  },
  {
   "cell_type": "code",
   "execution_count": null,
   "metadata": {},
   "outputs": [],
   "source": [
    "omega = np.zeros(m)\n",
    "for i in range(m):\n",
    "    omega[i] = random.random()\n",
    "model = linear_model.LinearRegression()\n",
    "\n",
    "while T < max_round or check_all([last_Phi, last_Omega, last_Psi], [new_Phi, new_Omega, new_Psi], eps):\n",
    "    tmp_Phi, tmp_Omega, tmp_Psi, omega = \\\n",
    "        Stackelberg_Nash_DataMarket(x_test, y_test, theta, rho, acc, sigma, lambda_, omega, m, N, x_in, y_in, model)\n",
    "    last_Phi, last_Omega, last_Psi = new_Phi, new_Omega, new_Psi\n",
    "    new_Phi, new_Omega, new_Psi = tmp_Phi, tmp_Omega, tmp_Psi\n",
    "    print(omega)\n",
    "\n",
    "save_npy('omega_random.npy', omega)\n"
   ]
  }
 ],
 "metadata": {
  "interpreter": {
   "hash": "7b4b4feff2f24a0f0a34464dbe537a36fda679851528fb8735cb41fa49dffb2d"
  },
  "kernelspec": {
   "display_name": "Python 3.9.7 ('base')",
   "language": "python",
   "name": "python3"
  },
  "language_info": {
   "codemirror_mode": {
    "name": "ipython",
    "version": 3
   },
   "file_extension": ".py",
   "mimetype": "text/x-python",
   "name": "python",
   "nbconvert_exporter": "python",
   "pygments_lexer": "ipython3",
   "version": "3.9.7"
  },
  "orig_nbformat": 4
 },
 "nbformat": 4,
 "nbformat_minor": 2
}
