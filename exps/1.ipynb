{
 "cells": [
  {
   "cell_type": "code",
   "execution_count": 1,
   "metadata": {},
   "outputs": [],
   "source": [
    "import sys\n",
    "sys.path.append(\"..\")\n",
    "from SN.SN import Stackelberg_Nash_DataMarket\n",
    "from sklearn import svm, linear_model\n",
    "from data_processor.data_utils import preprocess_data_forSN, save_npy\n",
    "import random\n",
    "import numpy as np\n",
    "\n",
    "def check_delta(last, new, eps):\n",
    "    ratio = new / last\n",
    "    return ratio > (1-eps) and ratio < (1 + eps)\n",
    "\n",
    "def check_all(lasts, news, eps):\n",
    "    for i in range(len(lasts)):\n",
    "        if not check_delta(lasts[i], news[i], eps):\n",
    "            return False\n",
    "    return True"
   ]
  },
  {
   "cell_type": "code",
   "execution_count": 2,
   "metadata": {},
   "outputs": [
    {
     "name": "stdout",
     "output_type": "stream",
     "text": [
      "0.3864433635335291 0.8999374185182576\n",
      "[0.78352814 1.         0.90347183 0.79381118 0.64203632 0.77504296\n",
      " 0.84435473 0.77084398 0.81028422 0.85530806]\n",
      "0.3864433635335291 0.8556838990133565\n",
      "[0.79373534 0.78896884 0.53825706 0.79582145 0.78173762 0.80039563\n",
      " 0.79826536 1.         0.7967317  0.79811299]\n",
      "0.38644336353352904 0.9181941730662235\n",
      "[0.89324954 0.85630449 0.85676361 0.76166566 0.7792636  1.\n",
      " 0.8367976  0.78075606 0.97421752 0.54669364]\n",
      "0.38644336353352915 0.8895872055393701\n",
      "[0.81061516 0.75552763 0.63901736 0.74386632 0.73750959 0.66760696\n",
      " 1.         0.75109954 0.74482206 0.73597494]\n",
      "0.3864433635335294 0.9174998958862864\n",
      "[0.92569825 0.85099439 0.73262061 1.         0.8696094  0.89344642\n",
      " 0.68127265 0.76423408 0.51232566 0.89137927]\n",
      "0.3864433635335292 0.909876096092848\n",
      "[0.91664544 1.         0.97658641 0.77280711 0.83897724 0.86789985\n",
      " 0.75905386 0.92136909 0.83231572 0.8844581 ]\n",
      "0.3864433635335292 0.9144878099148436\n",
      "[1.         0.76763725 0.91980348 0.76364369 0.75318732 0.90475561\n",
      " 0.7897765  0.95076014 0.79197175 0.85904184]\n",
      "0.38644336353352915 0.9162852205582442\n",
      "[0.84652499 0.75102378 0.78066158 0.8088176  0.77446873 0.80257875\n",
      " 0.82255951 1.         0.81845998 0.6158568 ]\n",
      "0.38644336353352937 0.9200014547876029\n",
      "[0.75019461 0.75019369 0.75012356 0.75122745 0.75022549 0.74981782\n",
      " 1.         0.60019486 0.75025989 0.75027687]\n",
      "0.38644336353352937 0.7368038154459238\n",
      "[0.9190624  0.89600397 0.91358803 0.84205171 0.92472276 1.\n",
      " 0.86680892 0.91782554 0.60774507 0.88122827]\n",
      "0.3864433635335292 0.6656114627226377\n",
      "[0.71990879 0.89947532 0.89991532 0.89992583 0.89661565 1.\n",
      " 0.89999258 0.90516577 0.89956562 0.89985769]\n",
      "0.3864433635335292 -3.9577569606458916\n"
     ]
    },
    {
     "ename": "ValueError",
     "evalue": "math domain error",
     "output_type": "error",
     "traceback": [
      "\u001b[1;31m---------------------------------------------------------------------------\u001b[0m",
      "\u001b[1;31mValueError\u001b[0m                                Traceback (most recent call last)",
      "\u001b[1;32mC:\\Users\\OPTIPL~1\\AppData\\Local\\Temp/ipykernel_15252/3101039609.py\u001b[0m in \u001b[0;36m<module>\u001b[1;34m\u001b[0m\n\u001b[0;32m     35\u001b[0m \u001b[1;32mwhile\u001b[0m \u001b[0mT\u001b[0m \u001b[1;33m<\u001b[0m \u001b[0mmax_round\u001b[0m \u001b[1;32mor\u001b[0m \u001b[0mcheck_all\u001b[0m\u001b[1;33m(\u001b[0m\u001b[1;33m[\u001b[0m\u001b[0mlast_Phi\u001b[0m\u001b[1;33m,\u001b[0m \u001b[0mlast_Omega\u001b[0m\u001b[1;33m,\u001b[0m \u001b[0mlast_Psi\u001b[0m\u001b[1;33m]\u001b[0m\u001b[1;33m,\u001b[0m \u001b[1;33m[\u001b[0m\u001b[0mnew_Phi\u001b[0m\u001b[1;33m,\u001b[0m \u001b[0mnew_Omega\u001b[0m\u001b[1;33m,\u001b[0m \u001b[0mnew_Psi\u001b[0m\u001b[1;33m]\u001b[0m\u001b[1;33m,\u001b[0m \u001b[0meps\u001b[0m\u001b[1;33m)\u001b[0m\u001b[1;33m:\u001b[0m\u001b[1;33m\u001b[0m\u001b[1;33m\u001b[0m\u001b[0m\n\u001b[0;32m     36\u001b[0m     \u001b[0mtmp_Phi\u001b[0m\u001b[1;33m,\u001b[0m \u001b[0mtmp_Omega\u001b[0m\u001b[1;33m,\u001b[0m \u001b[0mtmp_Psi\u001b[0m\u001b[1;33m,\u001b[0m \u001b[0momega\u001b[0m \u001b[1;33m=\u001b[0m\u001b[0;31m \u001b[0m\u001b[0;31m\\\u001b[0m\u001b[1;33m\u001b[0m\u001b[1;33m\u001b[0m\u001b[0m\n\u001b[1;32m---> 37\u001b[1;33m         \u001b[0mStackelberg_Nash_DataMarket\u001b[0m\u001b[1;33m(\u001b[0m\u001b[0mx_test\u001b[0m\u001b[1;33m,\u001b[0m \u001b[0my_test\u001b[0m\u001b[1;33m,\u001b[0m \u001b[0mtheta\u001b[0m\u001b[1;33m,\u001b[0m \u001b[0mrho\u001b[0m\u001b[1;33m,\u001b[0m \u001b[0mscore\u001b[0m\u001b[1;33m,\u001b[0m \u001b[0msigma\u001b[0m\u001b[1;33m,\u001b[0m \u001b[0mlambda_\u001b[0m\u001b[1;33m,\u001b[0m \u001b[0momega\u001b[0m\u001b[1;33m,\u001b[0m \u001b[0mm\u001b[0m\u001b[1;33m,\u001b[0m \u001b[0mN\u001b[0m\u001b[1;33m,\u001b[0m \u001b[0mx_in\u001b[0m\u001b[1;33m,\u001b[0m \u001b[0my_in\u001b[0m\u001b[1;33m,\u001b[0m \u001b[0mmodel\u001b[0m\u001b[1;33m)\u001b[0m\u001b[1;33m\u001b[0m\u001b[1;33m\u001b[0m\u001b[0m\n\u001b[0m\u001b[0;32m     38\u001b[0m     \u001b[0mlast_Phi\u001b[0m\u001b[1;33m,\u001b[0m \u001b[0mlast_Omega\u001b[0m\u001b[1;33m,\u001b[0m \u001b[0mlast_Psi\u001b[0m \u001b[1;33m=\u001b[0m \u001b[0mnew_Phi\u001b[0m\u001b[1;33m,\u001b[0m \u001b[0mnew_Omega\u001b[0m\u001b[1;33m,\u001b[0m \u001b[0mnew_Psi\u001b[0m\u001b[1;33m\u001b[0m\u001b[1;33m\u001b[0m\u001b[0m\n\u001b[0;32m     39\u001b[0m     \u001b[0mnew_Phi\u001b[0m\u001b[1;33m,\u001b[0m \u001b[0mnew_Omega\u001b[0m\u001b[1;33m,\u001b[0m \u001b[0mnew_Psi\u001b[0m \u001b[1;33m=\u001b[0m \u001b[0mtmp_Phi\u001b[0m\u001b[1;33m,\u001b[0m \u001b[0mtmp_Omega\u001b[0m\u001b[1;33m,\u001b[0m \u001b[0mtmp_Psi\u001b[0m\u001b[1;33m\u001b[0m\u001b[1;33m\u001b[0m\u001b[0m\n",
      "\u001b[1;32md:\\Stackelberg-Nash-Data-Market\\exps\\..\\SN\\SN.py\u001b[0m in \u001b[0;36mStackelberg_Nash_DataMarket\u001b[1;34m(x_test, y_test, theta, rho, score, sigma, lambda_, omega, m, N, x_in, y_in, model)\u001b[0m\n\u001b[0;32m    125\u001b[0m     \u001b[0mqM\u001b[0m \u001b[1;33m=\u001b[0m \u001b[0mcal_qM\u001b[0m\u001b[1;33m(\u001b[0m\u001b[0mchi\u001b[0m\u001b[1;33m,\u001b[0m \u001b[0mtau\u001b[0m\u001b[1;33m,\u001b[0m \u001b[0mm\u001b[0m\u001b[1;33m,\u001b[0m \u001b[0mtrue_score\u001b[0m\u001b[1;33m)\u001b[0m\u001b[1;33m\u001b[0m\u001b[1;33m\u001b[0m\u001b[0m\n\u001b[0;32m    126\u001b[0m     \u001b[0mqD\u001b[0m \u001b[1;33m=\u001b[0m \u001b[0mcal_qD\u001b[0m\u001b[1;33m(\u001b[0m\u001b[0mchi\u001b[0m\u001b[1;33m,\u001b[0m \u001b[0mtau\u001b[0m\u001b[1;33m,\u001b[0m \u001b[0mm\u001b[0m\u001b[1;33m)\u001b[0m\u001b[1;33m\u001b[0m\u001b[1;33m\u001b[0m\u001b[0m\n\u001b[1;32m--> 127\u001b[1;33m     \u001b[0mPhi\u001b[0m \u001b[1;33m=\u001b[0m \u001b[0mcal_Phi\u001b[0m\u001b[1;33m(\u001b[0m\u001b[0mchi\u001b[0m\u001b[1;33m,\u001b[0m \u001b[0mtau\u001b[0m\u001b[1;33m,\u001b[0m \u001b[0mtrue_score\u001b[0m\u001b[1;33m,\u001b[0m \u001b[0mtheta\u001b[0m\u001b[1;33m,\u001b[0m \u001b[0mm\u001b[0m\u001b[1;33m,\u001b[0m \u001b[0mpM\u001b[0m\u001b[1;33m,\u001b[0m \u001b[0mqM\u001b[0m\u001b[1;33m,\u001b[0m \u001b[0mrho\u001b[0m\u001b[1;33m)\u001b[0m\u001b[1;31m#buyer\u001b[0m\u001b[1;33m\u001b[0m\u001b[1;33m\u001b[0m\u001b[0m\n\u001b[0m\u001b[0;32m    128\u001b[0m     \u001b[0mOmega\u001b[0m \u001b[1;33m=\u001b[0m \u001b[0mcal_Omega\u001b[0m\u001b[1;33m(\u001b[0m\u001b[0mpM\u001b[0m\u001b[1;33m,\u001b[0m \u001b[0mqM\u001b[0m\u001b[1;33m,\u001b[0m \u001b[0mpD\u001b[0m\u001b[1;33m,\u001b[0m \u001b[0mqD\u001b[0m\u001b[1;33m,\u001b[0m \u001b[0mN\u001b[0m\u001b[1;33m,\u001b[0m \u001b[0mtrue_score\u001b[0m\u001b[1;33m,\u001b[0m \u001b[0msigma\u001b[0m\u001b[1;33m)\u001b[0m\u001b[1;31m#broker\u001b[0m\u001b[1;33m\u001b[0m\u001b[1;33m\u001b[0m\u001b[0m\n\u001b[0;32m    129\u001b[0m     \u001b[0mPsi\u001b[0m \u001b[1;33m=\u001b[0m \u001b[0mnp\u001b[0m\u001b[1;33m.\u001b[0m\u001b[0mzeros\u001b[0m\u001b[1;33m(\u001b[0m\u001b[0mm\u001b[0m\u001b[1;33m)\u001b[0m\u001b[1;33m\u001b[0m\u001b[1;33m\u001b[0m\u001b[0m\n",
      "\u001b[1;32md:\\Stackelberg-Nash-Data-Market\\exps\\..\\SN\\SN.py\u001b[0m in \u001b[0;36mcal_Phi\u001b[1;34m(chi, tau, score, theta, m, pM, qM, rho)\u001b[0m\n\u001b[0;32m     76\u001b[0m \u001b[1;33m\u001b[0m\u001b[0m\n\u001b[0;32m     77\u001b[0m \u001b[1;32mdef\u001b[0m \u001b[0mcal_Phi\u001b[0m\u001b[1;33m(\u001b[0m\u001b[0mchi\u001b[0m\u001b[1;33m,\u001b[0m \u001b[0mtau\u001b[0m\u001b[1;33m,\u001b[0m \u001b[0mscore\u001b[0m\u001b[1;33m,\u001b[0m \u001b[0mtheta\u001b[0m\u001b[1;33m,\u001b[0m \u001b[0mm\u001b[0m\u001b[1;33m,\u001b[0m \u001b[0mpM\u001b[0m\u001b[1;33m,\u001b[0m \u001b[0mqM\u001b[0m\u001b[1;33m,\u001b[0m \u001b[0mrho\u001b[0m\u001b[1;33m)\u001b[0m\u001b[1;33m:\u001b[0m\u001b[1;33m\u001b[0m\u001b[1;33m\u001b[0m\u001b[0m\n\u001b[1;32m---> 78\u001b[1;33m     \u001b[1;32mreturn\u001b[0m \u001b[0mcal_phi\u001b[0m\u001b[1;33m(\u001b[0m\u001b[0mchi\u001b[0m\u001b[1;33m,\u001b[0m \u001b[0mtau\u001b[0m\u001b[1;33m,\u001b[0m \u001b[0mscore\u001b[0m\u001b[1;33m,\u001b[0m \u001b[0mtheta\u001b[0m\u001b[1;33m,\u001b[0m \u001b[0mm\u001b[0m\u001b[1;33m,\u001b[0m \u001b[0mrho\u001b[0m\u001b[1;33m)\u001b[0m \u001b[1;33m-\u001b[0m \u001b[0mpM\u001b[0m \u001b[1;33m*\u001b[0m \u001b[0mqM\u001b[0m\u001b[1;33m\u001b[0m\u001b[1;33m\u001b[0m\u001b[0m\n\u001b[0m\u001b[0;32m     79\u001b[0m \u001b[1;33m\u001b[0m\u001b[0m\n\u001b[0;32m     80\u001b[0m \u001b[1;32mdef\u001b[0m \u001b[0mcal_traincost\u001b[0m\u001b[1;33m(\u001b[0m\u001b[0mN\u001b[0m\u001b[1;33m,\u001b[0m \u001b[0mscore\u001b[0m\u001b[1;33m,\u001b[0m \u001b[0msigma\u001b[0m\u001b[1;33m)\u001b[0m\u001b[1;33m:\u001b[0m\u001b[1;33m\u001b[0m\u001b[1;33m\u001b[0m\u001b[0m\n",
      "\u001b[1;32md:\\Stackelberg-Nash-Data-Market\\exps\\..\\SN\\SN.py\u001b[0m in \u001b[0;36mcal_phi\u001b[1;34m(chi, tau, score, theta, m, rho)\u001b[0m\n\u001b[0;32m     73\u001b[0m     \u001b[0msum\u001b[0m \u001b[1;33m=\u001b[0m \u001b[0mcal_qD\u001b[0m\u001b[1;33m(\u001b[0m\u001b[0mchi\u001b[0m\u001b[1;33m,\u001b[0m \u001b[0mtau\u001b[0m\u001b[1;33m,\u001b[0m \u001b[0mm\u001b[0m\u001b[1;33m)\u001b[0m\u001b[1;33m\u001b[0m\u001b[1;33m\u001b[0m\u001b[0m\n\u001b[0;32m     74\u001b[0m     \u001b[0mprint\u001b[0m\u001b[1;33m(\u001b[0m\u001b[0msum\u001b[0m\u001b[1;33m,\u001b[0m \u001b[0mscore\u001b[0m\u001b[1;33m)\u001b[0m\u001b[1;33m\u001b[0m\u001b[1;33m\u001b[0m\u001b[0m\n\u001b[1;32m---> 75\u001b[1;33m     \u001b[1;32mreturn\u001b[0m \u001b[0mtheta\u001b[0m\u001b[1;33m[\u001b[0m\u001b[1;36m1\u001b[0m\u001b[1;33m]\u001b[0m \u001b[1;33m*\u001b[0m \u001b[0mcal_v\u001b[0m\u001b[1;33m(\u001b[0m\u001b[0mrho\u001b[0m\u001b[1;33m[\u001b[0m\u001b[1;36m1\u001b[0m\u001b[1;33m]\u001b[0m\u001b[1;33m,\u001b[0m \u001b[0msum\u001b[0m\u001b[1;33m)\u001b[0m \u001b[1;33m+\u001b[0m \u001b[0mtheta\u001b[0m\u001b[1;33m[\u001b[0m\u001b[1;36m2\u001b[0m\u001b[1;33m]\u001b[0m \u001b[1;33m*\u001b[0m \u001b[0mcal_v\u001b[0m\u001b[1;33m(\u001b[0m\u001b[0mrho\u001b[0m\u001b[1;33m[\u001b[0m\u001b[1;36m2\u001b[0m\u001b[1;33m]\u001b[0m\u001b[1;33m,\u001b[0m \u001b[0mscore\u001b[0m\u001b[1;33m)\u001b[0m\u001b[1;33m\u001b[0m\u001b[1;33m\u001b[0m\u001b[0m\n\u001b[0m\u001b[0;32m     76\u001b[0m \u001b[1;33m\u001b[0m\u001b[0m\n\u001b[0;32m     77\u001b[0m \u001b[1;32mdef\u001b[0m \u001b[0mcal_Phi\u001b[0m\u001b[1;33m(\u001b[0m\u001b[0mchi\u001b[0m\u001b[1;33m,\u001b[0m \u001b[0mtau\u001b[0m\u001b[1;33m,\u001b[0m \u001b[0mscore\u001b[0m\u001b[1;33m,\u001b[0m \u001b[0mtheta\u001b[0m\u001b[1;33m,\u001b[0m \u001b[0mm\u001b[0m\u001b[1;33m,\u001b[0m \u001b[0mpM\u001b[0m\u001b[1;33m,\u001b[0m \u001b[0mqM\u001b[0m\u001b[1;33m,\u001b[0m \u001b[0mrho\u001b[0m\u001b[1;33m)\u001b[0m\u001b[1;33m:\u001b[0m\u001b[1;33m\u001b[0m\u001b[1;33m\u001b[0m\u001b[0m\n",
      "\u001b[1;32md:\\Stackelberg-Nash-Data-Market\\exps\\..\\SN\\SN.py\u001b[0m in \u001b[0;36mcal_v\u001b[1;34m(rho, attr)\u001b[0m\n\u001b[0;32m     68\u001b[0m \u001b[1;33m\u001b[0m\u001b[0m\n\u001b[0;32m     69\u001b[0m \u001b[1;32mdef\u001b[0m \u001b[0mcal_v\u001b[0m\u001b[1;33m(\u001b[0m\u001b[0mrho\u001b[0m\u001b[1;33m,\u001b[0m \u001b[0mattr\u001b[0m\u001b[1;33m)\u001b[0m\u001b[1;33m:\u001b[0m\u001b[1;33m\u001b[0m\u001b[1;33m\u001b[0m\u001b[0m\n\u001b[1;32m---> 70\u001b[1;33m     \u001b[1;32mreturn\u001b[0m \u001b[0mmath\u001b[0m\u001b[1;33m.\u001b[0m\u001b[0mlog\u001b[0m\u001b[1;33m(\u001b[0m\u001b[1;36m1\u001b[0m \u001b[1;33m+\u001b[0m \u001b[0mrho\u001b[0m \u001b[1;33m*\u001b[0m \u001b[0mattr\u001b[0m\u001b[1;33m)\u001b[0m\u001b[1;33m\u001b[0m\u001b[1;33m\u001b[0m\u001b[0m\n\u001b[0m\u001b[0;32m     71\u001b[0m \u001b[1;33m\u001b[0m\u001b[0m\n\u001b[0;32m     72\u001b[0m \u001b[1;32mdef\u001b[0m \u001b[0mcal_phi\u001b[0m\u001b[1;33m(\u001b[0m\u001b[0mchi\u001b[0m\u001b[1;33m,\u001b[0m \u001b[0mtau\u001b[0m\u001b[1;33m,\u001b[0m \u001b[0mscore\u001b[0m\u001b[1;33m,\u001b[0m \u001b[0mtheta\u001b[0m\u001b[1;33m,\u001b[0m \u001b[0mm\u001b[0m\u001b[1;33m,\u001b[0m \u001b[0mrho\u001b[0m\u001b[1;33m)\u001b[0m\u001b[1;33m:\u001b[0m\u001b[1;33m\u001b[0m\u001b[1;33m\u001b[0m\u001b[0m\n",
      "\u001b[1;31mValueError\u001b[0m: math domain error"
     ]
    }
   ],
   "source": [
    "max_round = 1000\n",
    "eps = 0.01\n",
    "last_Phi = last_Omega = last_Psi = 1.0\n",
    "new_Phi = new_Omega = new_Psi = -1.0\n",
    "T = 0\n",
    "\n",
    "#x_test = None\n",
    "#y_test = None\n",
    "#x_in = None\n",
    "#y_in = None\n",
    "m = 10\n",
    "N = m * 5\n",
    "x_in, y_in, x_test, y_test = preprocess_data_forSN('seller_in.csv', 'seller_test.csv', m, 500)\n",
    "\n",
    "theta = np.zeros(3)\n",
    "theta[1] = random.random()\n",
    "theta[2] = 1 - theta[1]\n",
    "rho = np.zeros(3)\n",
    "rho[1] = random.random()\n",
    "rho[2] = random.random()\n",
    "score = 0.8\n",
    "sigma = np.zeros((4, 3))\n",
    "sigma[0][0] = random.random()\n",
    "sigma[1][0] = random.random()\n",
    "sigma[2][0] = random.random()\n",
    "sigma[1][1] = random.random()\n",
    "sigma[3][0] = random.random()\n",
    "lambda_ = np.zeros(m)\n",
    "omega = np.zeros(m)\n",
    "for i in range(m):\n",
    "    lambda_[i] = random.random()\n",
    "    omega[i] = 1\n",
    "model = linear_model.LinearRegression()\n",
    "\n",
    "while T < max_round or check_all([last_Phi, last_Omega, last_Psi], [new_Phi, new_Omega, new_Psi], eps):\n",
    "    tmp_Phi, tmp_Omega, tmp_Psi, omega = \\\n",
    "        Stackelberg_Nash_DataMarket(x_test, y_test, theta, rho, score, sigma, lambda_, omega, m, N, x_in, y_in, model)\n",
    "    last_Phi, last_Omega, last_Psi = new_Phi, new_Omega, new_Psi\n",
    "    new_Phi, new_Omega, new_Psi = tmp_Phi, tmp_Omega, tmp_Psi\n",
    "    print(omega)\n",
    "\n",
    "save_npy('omega_cons1.npy', omega)\n"
   ]
  },
  {
   "cell_type": "code",
   "execution_count": null,
   "metadata": {},
   "outputs": [],
   "source": [
    "omega = np.zeros(m)\n",
    "for i in range(m):\n",
    "    omega[i] = random.random()\n",
    "model = linear_model.LinearRegression()\n",
    "\n",
    "while T < max_round or check_all([last_Phi, last_Omega, last_Psi], [new_Phi, new_Omega, new_Psi], eps):\n",
    "    tmp_Phi, tmp_Omega, tmp_Psi, omega = \\\n",
    "        Stackelberg_Nash_DataMarket(x_test, y_test, theta, rho, score, sigma, lambda_, omega, m, N, x_in, y_in, model)\n",
    "    last_Phi, last_Omega, last_Psi = new_Phi, new_Omega, new_Psi\n",
    "    new_Phi, new_Omega, new_Psi = tmp_Phi, tmp_Omega, tmp_Psi\n",
    "    print(omega)\n",
    "\n",
    "save_npy('omega_random.npy', omega)\n"
   ]
  }
 ],
 "metadata": {
  "interpreter": {
   "hash": "7b4b4feff2f24a0f0a34464dbe537a36fda679851528fb8735cb41fa49dffb2d"
  },
  "kernelspec": {
   "display_name": "Python 3.9.7 ('base')",
   "language": "python",
   "name": "python3"
  },
  "language_info": {
   "codemirror_mode": {
    "name": "ipython",
    "version": 3
   },
   "file_extension": ".py",
   "mimetype": "text/x-python",
   "name": "python",
   "nbconvert_exporter": "python",
   "pygments_lexer": "ipython3",
   "version": "3.9.7"
  },
  "orig_nbformat": 4
 },
 "nbformat": 4,
 "nbformat_minor": 2
}
