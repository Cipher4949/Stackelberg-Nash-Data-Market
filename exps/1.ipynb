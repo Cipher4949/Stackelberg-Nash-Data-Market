{
 "cells": [
  {
   "cell_type": "code",
   "execution_count": 2,
   "metadata": {},
   "outputs": [],
   "source": [
    "import sys\n",
    "sys.path.append(\"..\")\n",
    "from SN.SN import Stackelberg_Nash_DataMarket\n",
    "from sklearn import svm\n",
    "\n",
    "def check_delta(last, new, eps):\n",
    "    ratio = new / last\n",
    "    return ratio > (1-eps) and ratio < (1 + eps)\n",
    "\n",
    "def check_all(lasts, news, eps):\n",
    "    for i in range(len(lasts)):\n",
    "        if not check_delta(lasts[i], news[i], eps):\n",
    "            return False\n",
    "    return True\n",
    "\n",
    "max_round = 100\n",
    "eps = 0.01\n",
    "last_Phi = last_Omega = last_Psi = 1.0\n",
    "new_Phi = new_Omega = new_Psi = -1.0\n",
    "T = 0\n",
    "\n",
    "x_test = None\n",
    "y_test = None\n",
    "theta1 = None\n",
    "theta2 = None\n",
    "rho1 = None\n",
    "rho2 = None\n",
    "acc = None\n",
    "sigma1 = None\n",
    "sigma2 = None\n",
    "lambda_ = None\n",
    "omega = None\n",
    "m = None\n",
    "N = None\n",
    "x_in = None\n",
    "y_in = None\n",
    "model = svm.SVC(decision_function_shape='ovo')\n",
    "\n",
    "while T < max_round or check_all([last_Phi, last_Omega, last_Psi], [new_Phi, new_Omega, new_Psi], eps):\n",
    "    tmp_Phi, tmp_Omega, tmp_Psi, omega = \\\n",
    "        Stackelberg_Nash_DataMarket(x_test, y_test, theta1, theta2, rho1, rho2, acc, sigma1, sigma2, lambda_, omega, m, N, x_in, y_in, model)\n",
    "    last_Phi, last_Omega, last_Psi = new_Phi, new_Omega, new_Psi\n",
    "    new_Phi, new_Omega, new_Psi = tmp_Phi, tmp_Omega, tmp_Psi\n",
    "\n"
   ]
  },
  {
   "cell_type": "code",
   "execution_count": null,
   "metadata": {},
   "outputs": [],
   "source": []
  }
 ],
 "metadata": {
  "interpreter": {
   "hash": "7b4b4feff2f24a0f0a34464dbe537a36fda679851528fb8735cb41fa49dffb2d"
  },
  "kernelspec": {
   "display_name": "Python 3.9.7 ('base')",
   "language": "python",
   "name": "python3"
  },
  "language_info": {
   "codemirror_mode": {
    "name": "ipython",
    "version": 3
   },
   "file_extension": ".py",
   "mimetype": "text/x-python",
   "name": "python",
   "nbconvert_exporter": "python",
   "pygments_lexer": "ipython3",
   "version": "3.9.7"
  },
  "orig_nbformat": 4
 },
 "nbformat": 4,
 "nbformat_minor": 2
}
