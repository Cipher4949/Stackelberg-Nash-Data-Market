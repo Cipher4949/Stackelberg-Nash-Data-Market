{
 "cells": [
  {
   "cell_type": "code",
   "execution_count": 1,
   "metadata": {},
   "outputs": [],
   "source": [
    "import sys\n",
    "sys.path.append(\"..\")\n",
    "from SN.SN import Stackelberg_Nash_DataMarket, inner_compare_Market\n",
    "from sklearn import svm, linear_model\n",
    "from data_processor.data_utils import preprocess_data_forSN, load_npy\n",
    "import numpy as np\n",
    "import random"
   ]
  },
  {
   "cell_type": "code",
   "execution_count": 2,
   "metadata": {},
   "outputs": [],
   "source": [
    "m = 100\n",
    "N = m * 5\n",
    "x_in, y_in, x_test, y_test = preprocess_data_forSN('seller_in2.csv', 'seller_test.csv', m, 90)\n",
    "theta = np.zeros(3)\n",
    "theta[1] = 0.5\n",
    "theta[2] = 1 - theta[1]\n",
    "rho = np.zeros(3)\n",
    "rho[1] = 0.5\n",
    "rho[2] = 0.5 * N\n",
    "score = 0.8\n",
    "sigma = np.zeros((4, 3))\n",
    "sigma_id = [(0, 0), (1, 0), (2, 0), (1, 1),  (2, 2), (3, 0)]\n",
    "sigma[0][0] = 0.001\n",
    "sigma[1][0] = -2\n",
    "sigma[1][1] = 0.001\n",
    "sigma[2][0] = -3\n",
    "sigma[2][2] = 0.002\n",
    "sigma[3][0] = 0.001\n",
    "lambda_ = np.zeros(m)\n",
    "omega = load_npy(\"omega_random.npy\")\n",
    "for i in range(m):\n",
    "    lambda_[i] = random.random()\n",
    "model = linear_model.LinearRegression()\n",
    "rate = 0.2"
   ]
  },
  {
   "cell_type": "code",
   "execution_count": 3,
   "metadata": {},
   "outputs": [],
   "source": [
    "Phi, Omega, Psi, ab_omega, pD, pM, tau, exact_score = \\\n",
    "    Stackelberg_Nash_DataMarket(x_test, y_test, theta, rho, score, sigma, lambda_, omega, m, N, x_in, y_in, model, rate)\n",
    "print(Phi, Omega, \"\\n\", Psi, \"\\n\", pD, pM, \"\\n\", tau, \"\\n\", exact_score, \"\\n\")\n",
    "\n",
    "Phi, Omega, Psi, ab_omega, pD, pM, tau, exact_score = \\\n",
    "    inner_compare_Market(x_test, y_test, theta, rho, score, sigma, lambda_, omega, m, N, x_in, y_in, model, rate, 'random')\n",
    "print(Phi, Omega, \"\\n\", Psi, \"\\n\", pD, pM, \"\\n\", tau, \"\\n\", exact_score, \"\\n\")\n",
    "\n",
    "\n",
    "Phi, Omega, Psi, ab_omega, pD, pM, tau, exact_score = \\\n",
    "    inner_compare_Market(x_test, y_test, theta, rho, score, sigma, lambda_, omega, m, N, x_in, y_in, model, rate, 'average')\n",
    "print(Phi, Omega, \"\\n\", Psi, \"\\n\", pD, pM, \"\\n\", tau, \"\\n\", exact_score, \"\\n\")"
   ]
  }
 ],
 "metadata": {
  "interpreter": {
   "hash": "7b4b4feff2f24a0f0a34464dbe537a36fda679851528fb8735cb41fa49dffb2d"
  },
  "kernelspec": {
   "display_name": "Python 3.9.7 ('base')",
   "language": "python",
   "name": "python3"
  },
  "language_info": {
   "codemirror_mode": {
    "name": "ipython",
    "version": 3
   },
   "file_extension": ".py",
   "mimetype": "text/x-python",
   "name": "python",
   "nbconvert_exporter": "python",
   "pygments_lexer": "ipython3",
   "version": "3.9.7"
  },
  "orig_nbformat": 4
 },
 "nbformat": 4,
 "nbformat_minor": 2
}
