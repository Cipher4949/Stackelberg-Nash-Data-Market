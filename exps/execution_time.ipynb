{
 "cells": [
  {
   "cell_type": "code",
   "execution_count": 11,
   "metadata": {},
   "outputs": [],
   "source": [
    "import sys\n",
    "sys.path.append(\"..\")\n",
    "from SN.SN import Stackelberg_Nash_DataMarket\n",
    "from sklearn import svm, linear_model\n",
    "from data_processor.data_utils import preprocess_data_forSN, load_npy\n",
    "import numpy as np\n",
    "import time\n",
    "import random"
   ]
  },
  {
   "cell_type": "code",
   "execution_count": 12,
   "metadata": {},
   "outputs": [],
   "source": [
    "m = 10000\n",
    "x_in, y_in, x_test, y_test, sv= preprocess_data_forSN('seller_aug.csv', 'seller_test.csv', m, 100, 'sv_aug.csv')\n",
    "theta = np.zeros(3)\n",
    "theta[1] = 0.5\n",
    "theta[2] = 1 - theta[1]\n",
    "rho = np.zeros(3)\n",
    "rho[1] = 0.5\n",
    "rho[2] = 0.5 * 500\n",
    "score = 0.8\n",
    "sigma = np.zeros((4, 3))\n",
    "sigma_id = [(0, 0), (1, 0), (2, 0), (1, 1),  (2, 2), (3, 0)]\n",
    "sigma[0][0] = 0.001\n",
    "sigma[1][0] = -2\n",
    "sigma[1][1] = 0.001\n",
    "sigma[2][0] = -3\n",
    "sigma[2][2] = 0.002\n",
    "sigma[3][0] = 0.001\n",
    "lambda_ = np.zeros(m)\n",
    "omega_tmp = load_npy(\"omega_random.npy\")\n",
    "omega = np.zeros(9000 * 112, dtype= 'float64')\n",
    "idx = 0\n",
    "for i in range(100):\n",
    "    for j in range(100):\n",
    "        omega[idx] = omega_tmp[i]\n",
    "        idx += 1\n",
    "for i in range(m):\n",
    "    lambda_[i] = 0.25 + random.random() / 2\n",
    "model = linear_model.LinearRegression()\n",
    "rate = 0.2"
   ]
  },
  {
   "cell_type": "code",
   "execution_count": 13,
   "metadata": {},
   "outputs": [
    {
     "name": "stdout",
     "output_type": "stream",
     "text": [
      "5 : 0.005836199998157099\n",
      "10 : 0.001931699996930547\n",
      "20 : 0.003931999992346391\n",
      "30 : 0.004282699999748729\n",
      "40 : 0.00561819999711588\n",
      "50 : 0.00657540000975132\n",
      "60 : 0.007968899997649714\n",
      "70 : 0.00844890000007581\n",
      "80 : 0.010379600003943779\n",
      "90 : 0.01060309998865705\n",
      "100 : 0.011658999996143393\n",
      "500 : 0.055642499995883554\n",
      "1000 : 0.13429610000457615\n",
      "5000 : 0.5621057999960613\n",
      "10000 : 1.0409805000090273\n"
     ]
    }
   ],
   "source": [
    "m_s = [5, 10, 20, 30, 40, 50, 60, 70, 80, 90, 100, 500, 1000, 5000, 10000]\n",
    "for m in m_s:\n",
    "    N = m * 5\n",
    "    start = time.perf_counter()\n",
    "    Phi, Omega, Psi, ab_omega, pD, pM, tau, exact_score = \\\n",
    "    Stackelberg_Nash_DataMarket(x_test, y_test, theta, rho, score, sigma, lambda_, omega, m, N, x_in, y_in, sv, model, rate)\n",
    "    end = time.perf_counter()\n",
    "    run_time = end - start\n",
    "    print(m, \":\", run_time)\n",
    "#without sv\n"
   ]
  },
  {
   "cell_type": "code",
   "execution_count": 14,
   "metadata": {},
   "outputs": [
    {
     "name": "stdout",
     "output_type": "stream",
     "text": [
      "5 : 1.855293000000529\n",
      "10 : 2.8581237999896985\n",
      "20 : 5.73009810000076\n",
      "30 : 8.566149599995697\n",
      "40 : 11.04935580000165\n",
      "50 : 14.217735500002163\n",
      "60 : 17.192726099994616\n",
      "70 : 20.254330600000685\n",
      "80 : 23.110847200005082\n",
      "90 : 25.572054699994624\n",
      "100 : 28.405440300004557\n",
      "500 : 166.3097209999978\n",
      "1000 : 405.30416119999427\n",
      "5000 : 4860.979715000009\n",
      "10000 : 18928.411219300004\n"
     ]
    }
   ],
   "source": [
    "m_s = [5, 10, 20, 30, 40, 50, 60, 70, 80, 90, 100, 500, 1000, 5000, 10000]\n",
    "for m in m_s:\n",
    "    N = m * 5\n",
    "    start = time.perf_counter()\n",
    "    Phi, Omega, Psi, ab_omega, pD, pM, tau, exact_score = \\\n",
    "    Stackelberg_Nash_DataMarket(x_test, y_test, theta, rho, score, sigma, lambda_, omega, m, N, x_in, y_in, sv, model, rate, False)\n",
    "    end = time.perf_counter()\n",
    "    run_time = end - start\n",
    "    print(m, \":\", run_time)\n",
    "#with sv"
   ]
  }
 ],
 "metadata": {
  "interpreter": {
   "hash": "49cb93f377a7abe7414b7b0f21fb3017538004a126cf690fb524202736b7fb92"
  },
  "kernelspec": {
   "display_name": "Python 3.9.7 ('base')",
   "language": "python",
   "name": "python3"
  },
  "language_info": {
   "codemirror_mode": {
    "name": "ipython",
    "version": 3
   },
   "file_extension": ".py",
   "mimetype": "text/x-python",
   "name": "python",
   "nbconvert_exporter": "python",
   "pygments_lexer": "ipython3",
   "version": "3.9.7"
  },
  "orig_nbformat": 4
 },
 "nbformat": 4,
 "nbformat_minor": 2
}
