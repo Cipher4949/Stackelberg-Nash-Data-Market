{
 "cells": [
  {
   "cell_type": "code",
   "execution_count": 1,
   "metadata": {},
   "outputs": [],
   "source": [
    "import sys\n",
    "sys.path.append(\"..\")\n",
    "from SN.SN import Stackelberg_Nash_DataMarket\n",
    "from sklearn import svm, linear_model\n",
    "from data_processor.data_utils import preprocess_data_forSN, load_npy\n",
    "import numpy as np\n",
    "import time\n",
    "import random"
   ]
  },
  {
   "cell_type": "code",
   "execution_count": 2,
   "metadata": {},
   "outputs": [],
   "source": [
    "m = 10000\n",
    "x_in, y_in, x_test, y_test = preprocess_data_forSN('seller_aug.csv', 'seller_test.csv', m, 100)\n",
    "theta = np.zeros(3)\n",
    "theta[1] = 0.5\n",
    "theta[2] = 1 - theta[1]\n",
    "rho = np.zeros(3)\n",
    "rho[1] = 0.5\n",
    "rho[2] = 0.5 * 500\n",
    "score = 0.8\n",
    "sigma = np.zeros((4, 3))\n",
    "sigma_id = [(0, 0), (1, 0), (2, 0), (1, 1),  (2, 2), (3, 0)]\n",
    "sigma[0][0] = 0.001\n",
    "sigma[1][0] = -2\n",
    "sigma[1][1] = 0.001\n",
    "sigma[2][0] = -3\n",
    "sigma[2][2] = 0.002\n",
    "sigma[3][0] = 0.001\n",
    "lambda_ = np.zeros(m)\n",
    "omega_tmp = load_npy(\"omega_random.npy\")\n",
    "omega = np.zeros(9000 * 112, dtype= 'float64')\n",
    "idx = 0\n",
    "for i in range(100):\n",
    "    for j in range(100):\n",
    "        omega[idx] = omega_tmp[i]\n",
    "        idx += 1\n",
    "for i in range(m):\n",
    "    lambda_[i] = 0.25 + random.random() / 2\n",
    "model = linear_model.LinearRegression()\n",
    "rate = 0.2"
   ]
  },
  {
   "cell_type": "code",
   "execution_count": 3,
   "metadata": {},
   "outputs": [
    {
     "name": "stdout",
     "output_type": "stream",
     "text": [
      "5 : 0.004496899999999471\n",
      "10 : 0.0016867999999998773\n",
      "20 : 0.0035234000000006205\n",
      "30 : 0.0052504000000004325\n",
      "40 : 0.007419699999999807\n",
      "50 : 0.00820199999999982\n",
      "60 : 0.007923500000000416\n",
      "70 : 0.00838459999999941\n",
      "80 : 0.01269600000000004\n",
      "90 : 0.010611199999999599\n",
      "100 : 0.010794799999999327\n",
      "500 : 0.054743600000000114\n",
      "1000 : 0.11283229999999911\n",
      "5000 : 0.5427417000000005\n",
      "10000 : 1.0472410000000014\n"
     ]
    }
   ],
   "source": [
    "m_s = [5, 10, 20, 30, 40, 50, 60, 70, 80, 90, 100, 500, 1000, 5000, 10000]\n",
    "for m in m_s:\n",
    "    N = m * 5\n",
    "    start = time.perf_counter()\n",
    "    Phi, Omega, Psi, ab_omega, pD, pM, tau, exact_score = \\\n",
    "    Stackelberg_Nash_DataMarket(x_test, y_test, theta, rho, score, sigma, lambda_, omega, m, N, x_in, y_in, model, rate)\n",
    "    end = time.perf_counter()\n",
    "    run_time = end - start\n",
    "    print(m, \":\", run_time)\n",
    "#without sv\n"
   ]
  },
  {
   "cell_type": "code",
   "execution_count": 91,
   "metadata": {},
   "outputs": [
    {
     "name": "stdout",
     "output_type": "stream",
     "text": [
      "5 : 1.8341281000029994\n",
      "10 : 2.806762099997286\n",
      "20 : 5.520565599999827\n",
      "30 : 8.092417699997895\n",
      "40 : 10.56233179999981\n",
      "50 : 13.045405099997879\n",
      "60 : 15.47321550000197\n",
      "70 : 18.45213330000115\n",
      "80 : 21.23763090000284\n",
      "90 : 23.419573899998795\n",
      "100 : 26.495232400000532\n",
      "500 : 156.3083082000012\n",
      "1000 : 372.4894256000007\n",
      "5000 : 4500.5393453\n",
      "10000 : 17835.4212674\n"
     ]
    }
   ],
   "source": [
    "m_s = [5, 10, 20, 30, 40, 50, 60, 70, 80, 90, 100, 500, 1000, 5000, 10000]\n",
    "for m in m_s:\n",
    "    N = m * 5\n",
    "    start = time.perf_counter()\n",
    "    Phi, Omega, Psi, ab_omega, pD, pM, tau, exact_score = \\\n",
    "    Stackelberg_Nash_DataMarket(x_test, y_test, theta, rho, score, sigma, lambda_, omega, m, N, x_in, y_in, model, rate, False)\n",
    "    end = time.perf_counter()\n",
    "    run_time = end - start\n",
    "    print(m, \":\", run_time)\n",
    "#with sv"
   ]
  }
 ],
 "metadata": {
  "interpreter": {
   "hash": "49cb93f377a7abe7414b7b0f21fb3017538004a126cf690fb524202736b7fb92"
  },
  "kernelspec": {
   "display_name": "Python 3.9.7 ('base')",
   "language": "python",
   "name": "python3"
  },
  "language_info": {
   "codemirror_mode": {
    "name": "ipython",
    "version": 3
   },
   "file_extension": ".py",
   "mimetype": "text/x-python",
   "name": "python",
   "nbconvert_exporter": "python",
   "pygments_lexer": "ipython3",
   "version": "3.9.7"
  },
  "orig_nbformat": 4
 },
 "nbformat": 4,
 "nbformat_minor": 2
}
