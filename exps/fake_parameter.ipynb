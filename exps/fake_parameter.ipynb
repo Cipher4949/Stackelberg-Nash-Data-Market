{
 "cells": [
  {
   "cell_type": "code",
   "execution_count": 8,
   "metadata": {},
   "outputs": [],
   "source": [
    "import sys\n",
    "sys.path.append(\"..\")\n",
    "from SN.SN import fake_parameter_DataMarket\n",
    "from sklearn import svm, linear_model\n",
    "from data_processor.data_utils import preprocess_data_forSN, load_npy\n",
    "import numpy as np\n",
    "import random"
   ]
  },
  {
   "cell_type": "code",
   "execution_count": 9,
   "metadata": {},
   "outputs": [],
   "source": [
    "m = 100\n",
    "N = m * 5\n",
    "x_in, y_in, x_test, y_test = preprocess_data_forSN('seller_in2.csv', 'seller_test.csv', m, 90)\n",
    "theta = np.zeros(3)\n",
    "theta[1] = 0.5\n",
    "theta[2] = 1 - theta[1]\n",
    "rho = np.zeros(3)\n",
    "rho[1] = 0.5\n",
    "rho[2] = 0.5 * N\n",
    "\n",
    "true_rho = np.zeros(3)\n",
    "true_rho[1] = 0.5\n",
    "true_rho[2] = 0.5 * N\n",
    "\n",
    "score = 0.8\n",
    "sigma = np.zeros((4, 3))\n",
    "sigma_id = [(0, 0), (1, 0), (2, 0), (3, 0)]\n",
    "sigma_id2 = [(1, 1), (2, 2)]\n",
    "sigma[0][0] = 0.001\n",
    "sigma[1][0] = -2\n",
    "sigma[1][1] = 0.001\n",
    "sigma[2][0] = -3\n",
    "sigma[2][2] = 0.002\n",
    "sigma[3][0] = 0.001\n",
    "lambda_ = np.zeros(m)\n",
    "omega = load_npy(\"omega_random.npy\")\n",
    "for i in range(m):\n",
    "    lambda_[i] = 0.5\n",
    "model = linear_model.LinearRegression()\n",
    "rate = 0.2\n",
    "scale = [1e-3, 1e-2, 0.1, 1., 10., 1e2, 1e3, 1e4, 1e5, 1e6, 1e7]\n",
    "scale2 = [1e4, 1e3, 1e2, 1e1, 1, 0.1, 1e-2]\n",
    "scale3 = [0.1, 0.09, 0.08, 0.07, 0.06, 0.05, 0.04, 0.03, 0.02, 0.01, \\\n",
    "        -0.01, -0.02, -0.03, -0.04, -0.05, -0.06, -0.07, -0.08, -0.09]"
   ]
  },
  {
   "cell_type": "code",
   "execution_count": 10,
   "metadata": {},
   "outputs": [],
   "source": [
    "rhos = scale\n",
    "f = open('./res/fake_rho1_scale.txt', 'w+')\n",
    "for now_rho1 in rhos:\n",
    "    rho[1] = now_rho1\n",
    "    Phi, Omega, Psi, pD, pM, tau, exact_score = \\\n",
    "        fake_parameter_DataMarket(x_test, y_test, theta, rho, score, sigma, lambda_, omega, m, N, x_in, y_in, model, true_rho=true_rho)\n",
    "    f.write(str((Phi, Omega, Psi[0], pD, pM, tau[0],  exact_score)) + \"\\n\")\n",
    "f.close()\n",
    "rho[1] = 0.5\n",
    "\n",
    "f = open('./res/fake_rho2_scale.txt', 'w+')\n",
    "for now_rho2 in rhos:\n",
    "    rho[2] = now_rho2 * N\n",
    "    Phi, Omega, Psi, pD, pM, tau, exact_score = \\\n",
    "        fake_parameter_DataMarket(x_test, y_test, theta, rho, score, sigma, lambda_, omega, m, N, x_in, y_in, model, true_rho=true_rho)\n",
    "    f.write(str((Phi, Omega, Psi[0], pD, pM, tau[0],  exact_score)) + \"\\n\")\n",
    "rho[2] = 0.5 * N\n",
    "f.close()"
   ]
  }
 ],
 "metadata": {
  "kernelspec": {
   "display_name": "Python 3.9.7 ('base')",
   "language": "python",
   "name": "python3"
  },
  "language_info": {
   "codemirror_mode": {
    "name": "ipython",
    "version": 3
   },
   "file_extension": ".py",
   "mimetype": "text/x-python",
   "name": "python",
   "nbconvert_exporter": "python",
   "pygments_lexer": "ipython3",
   "version": "3.9.7"
  },
  "orig_nbformat": 4,
  "vscode": {
   "interpreter": {
    "hash": "49cb93f377a7abe7414b7b0f21fb3017538004a126cf690fb524202736b7fb92"
   }
  }
 },
 "nbformat": 4,
 "nbformat_minor": 2
}
