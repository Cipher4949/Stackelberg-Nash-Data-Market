{
 "cells": [
  {
   "cell_type": "code",
   "execution_count": 2,
   "metadata": {},
   "outputs": [],
   "source": [
    "import sys\n",
    "sys.path.append(\"..\")\n",
    "from SN.SN import Stackelberg_Nash_DataMarket, No_Game_Market\n",
    "from sklearn import svm, linear_model\n",
    "from data_processor.data_utils import preprocess_data_forSN, load_npy\n",
    "import numpy as np\n",
    "import random"
   ]
  },
  {
   "cell_type": "code",
   "execution_count": 3,
   "metadata": {},
   "outputs": [],
   "source": [
    "m = 100\n",
    "N = m * 5\n",
    "x_in, y_in, x_test, y_test = preprocess_data_forSN('seller_in2.csv', 'seller_test.csv', m, 90)\n",
    "theta = np.zeros(3)\n",
    "theta[1] = 0.5\n",
    "theta[2] = 1 - theta[1]\n",
    "rho = np.zeros(3)\n",
    "rho[1] = 0.1\n",
    "rho[2] = 0.5 * N\n",
    "score = 0.8\n",
    "sigma = np.zeros((4, 3))\n",
    "sigma_id = [(0, 0), (1, 0), (2, 0), (1, 1),  (2, 2), (3, 0)]\n",
    "sigma[0][0] = 0.001\n",
    "sigma[1][0] = -2\n",
    "sigma[1][1] = 0.001\n",
    "sigma[2][0] = -3\n",
    "sigma[2][2] = 0.002\n",
    "sigma[3][0] = 0.001\n",
    "lambda_ = np.zeros(m)\n",
    "omega = load_npy(\"omega_random.npy\")\n",
    "for i in range(m):\n",
    "    lambda_[i] = 1+random.random()\n",
    "model = linear_model.LinearRegression()\n",
    "rate = 0.2"
   ]
  },
  {
   "cell_type": "code",
   "execution_count": 5,
   "metadata": {},
   "outputs": [],
   "source": [
    "v_range = [i for i in range(1, 10)]\n",
    "v_range = np.asarray(v_range, dtype='float64')\n",
    "v_range /= 10\n",
    "tau = [0.0008679926631495319, 0.0010078553367813246, 0.0008257846771776144, 0.0009922706650643549, 0.0010111427911272703, 0.0011285856864393141, 0.00088393273275578, 0.001005214584173386, 0.0008009668433647034, 0.00104879983821146, 0.0010311885460240282, 0.000936343538654583, 0.0009398274170118862, 0.0007936651273271469, 0.00109348991119488, 0.0009367537480925196, 0.0008673744396878026, 0.0008526882879862222, 0.0008966560331769717, 0.0009623220420293155, 0.0009395101745796704, 0.000958659114330806, 0.0010624713105412112, 0.0008201783572741757, 0.0009680453054557273, 0.0008894935498306074, 0.0010549038734478378, 0.0008148796586093113, 0.000826583485086765, 0.001138555289318092, 0.0009576540401241373, 0.0007785145049117761, 0.000919198473192373, 0.0010566215989375044, 0.0008811717609219553, 0.0008308777906546771, 0.001016203257481281, 0.0009655743424013916, 0.0010212480780912893, 0.0011089853910449862, 0.0009449280587460547, 0.000994734716321937, 0.0010936940996715938, 0.0010789598612045287, 0.0008546314714650255, 0.000833491813450256, 0.0009932763558642467, 0.0009346090478937641, 0.0008756675607433557, 0.0010280973564951933, 0.0010939124040359217, 0.0008454119420521379, 0.0008421755988595762, 0.000810958005976858, 0.0010932373099631668, 0.0008081098011480333, 0.001001829275624617, 0.0009916440897290058, 0.0008939911787188451, 0.0009795996289624122, 0.001106969289060169, 0.000823946302118664, 0.0007754887346090183, 0.0010884382643121604, 0.0009265308265183193, 0.0010259816698476225, 0.0008054669561256924, 0.0008175599319973063, 0.0009429606603664831, 0.0009695567907478725, 0.0009398399556056891, 0.000902661803057405, 0.001070336934402381, 0.0008338780120702978, 0.0008610693586733427, 0.0009272220079722758, 0.0008233535393903394, 0.0010815677597498783, 0.0010316536426622789, 0.0008793103931575867, 0.0010009332393251466, 0.0010800118994554906, 0.0009368276962826203, 0.001122680318096461, 0.0008334054190649842, 0.0008061251158236676, 0.0011161827135063207, 0.000833815794521592, 0.0008598511350109942, 0.0009087477615118186, 0.0009227311145502585, 0.0008995175807306071, 0.0008133292861912659, 0.0009775697487882412, 0.0009368008320069597, 0.0011085158165134634, 0.0008912063129174811, 0.0009272016057883737, 0.0009268895878083229, 0.0010983123573792752]\n",
    "pD = 0.13941730060649077\n",
    "pM = 0.3485432515162269\n",
    "\n",
    "f = open('./res/no_game_pM.txt', 'w+')\n",
    "\n",
    "for pM in v_range:\n",
    "    Phi, Omega, Psi, ab_omega, exact_score,pD = \\\n",
    "        No_Game_Market_pM(x_test, y_test, theta, rho, score, sigma, lambda_, omega, m, N, x_in, y_in, model, rate, pM)\n",
    "    f.write(str(pM)+\": \"+str((Phi, Omega, Psi[0], exact_score)) + \"\\n\")\n",
    "    print(str(pM)+\": \"+str((Phi, Omega, Psi[0])) + \"\\n\")\n",
    "f.close()\n",
    "\n"
   ]
  },
  {
   "cell_type": "code",
   "execution_count": null,
   "metadata": {},
   "outputs": [],
   "source": [
    "f = open('./res/no_game_pD.txt', 'w+')\n",
    "pM = 0.3485432515162269\n",
    "for pD in v_range:\n",
    "    Phi, Omega, Psi, ab_omega, exact_score = \\\n",
    "        No_Game_Market_pD(x_test, y_test, theta, rho, score, sigma, lambda_, omega, m, N, x_in, y_in, model, rate, pD)\n",
    "    f.write(str(pD)+\": \"+str((Phi, Omega, Psi[0], exact_score)) + \"\\n\")\n",
    "f.close()\n",
    "\n",
    "\n",
    "f = open('./res/no_game_tau.txt', 'w+')\n",
    "pD = 0.13941730060649077\n",
    "pM = 0.3485432515162269\n",
    "v_range /= 1000\n",
    "for now_tau in v_range:\n",
    "    tau[0] = now_tau\n",
    "    Phi, Omega, Psi, ab_omega, exact_score = \\\n",
    "        No_Game_Market_tau(x_test, y_test, theta, rho, score, sigma, lambda_, omega, m, N, x_in, y_in, model, rate, tau)\n",
    "    f.write(str(tau[0])+\": \"+str((Phi, Omega, Psi[0], Psi[1], exact_score)) + \"\\n\")\n",
    "f.close()"
   ]
  }
 ],
 "metadata": {
  "interpreter": {
   "hash": "7b4b4feff2f24a0f0a34464dbe537a36fda679851528fb8735cb41fa49dffb2d"
  },
  "kernelspec": {
   "display_name": "Python 3.9.7 ('base')",
   "language": "python",
   "name": "python3"
  },
  "language_info": {
   "codemirror_mode": {
    "name": "ipython",
    "version": 3
   },
   "file_extension": ".py",
   "mimetype": "text/x-python",
   "name": "python",
   "nbconvert_exporter": "python",
   "pygments_lexer": "ipython3",
   "version": "3.9.7"
  },
  "orig_nbformat": 4
 },
 "nbformat": 4,
 "nbformat_minor": 2
}
