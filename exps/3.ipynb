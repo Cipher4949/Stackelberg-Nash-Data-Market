{
 "cells": [
  {
   "cell_type": "code",
   "execution_count": null,
   "metadata": {},
   "outputs": [],
   "source": [
    "import sys\n",
    "sys.path.append(\"..\")\n",
    "from SN.SN import Stackelberg_Nash_DataMarket\n",
    "from sklearn import svm, linear_model\n",
    "from data_processor.data_utils import preprocess_data_forSN, load_npy\n",
    "import numpy as np"
   ]
  },
  {
   "cell_type": "code",
   "execution_count": null,
   "metadata": {},
   "outputs": [],
   "source": [
    "m = 100\n",
    "N = m * 5\n",
    "x_in, y_in, x_test, y_test = preprocess_data_forSN('seller_in2.csv', 'seller_test.csv', m, 90)\n",
    "theta = np.zeros(3)\n",
    "theta[1] = 0.5\n",
    "theta[2] = 1 - theta[1]\n",
    "rho = np.zeros(3)\n",
    "rho[1] = 0.5 * N\n",
    "rho[2] = 0.5\n",
    "score = 0.8\n",
    "sigma = np.zeros((4, 3))\n",
    "sigma_id = [(0, 0), (1, 0), (2, 0), (1, 1), (3, 0)]\n",
    "for id in sigma_id:\n",
    "    sigma[id] = 0.5\n",
    "lambda_ = np.zeros(m)\n",
    "omega = load_npy(\"omega_random.npy\")\n",
    "for i in range(m):\n",
    "    lambda_[i] = 0.5\n",
    "model = linear_model.LinearRegression()\n",
    "rate = 0.2"
   ]
  },
  {
   "cell_type": "code",
   "execution_count": null,
   "metadata": {},
   "outputs": [],
   "source": [
    "Phi, Omega, Psi, ab_omega, pD, pM, tau, exact_score = \\\n",
    "    Stackelberg_Nash_DataMarket(x_test, y_test, theta, rho, score, sigma, lambda_, omega, m, N, x_in, y_in, model, rate)\n",
    "print(Phi, Omega, \"\\n\", Psi, \"\\n\", pD, pM, \"\\n\", tau, \"\\n\", exact_score, \"\\n\")\n",
    "no_omega = np.ones(m)\n",
    "Phi, Omega, Psi, ab_omega, pD, pM, tau, exact_score = \\\n",
    "    Stackelberg_Nash_DataMarket(x_test, y_test, theta, rho, score, sigma, lambda_, no_omega, m, N, x_in, y_in, model, rate)\n",
    "print(Phi, Omega, \"\\n\", Psi, \"\\n\", pD, pM, \"\\n\", tau, \"\\n\", exact_score, \"\\n\")"
   ]
  }
 ],
 "metadata": {
  "language_info": {
   "name": "python"
  },
  "orig_nbformat": 4
 },
 "nbformat": 4,
 "nbformat_minor": 2
}
