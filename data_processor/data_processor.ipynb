{
 "cells": [
  {
   "cell_type": "code",
   "execution_count": 2,
   "metadata": {},
   "outputs": [],
   "source": [
    "import sys\n",
    "sys.path.append(\"..\")\n",
    "\n",
    "import numpy as np\n",
    "import pandas as pd\n",
    "\n",
    "from data_utils import load_tabular_data\n"
   ]
  },
  {
   "cell_type": "code",
   "execution_count": 2,
   "metadata": {},
   "outputs": [],
   "source": [
    "#load_tabular_data('adult', {'test':100, 'train': 5000}, 'seller_divide_train.csv', 'seller_divide_test.csv')\n",
    "import os\n",
    "def load_data(file_path, dict_no, train_file_name, test_file_name):\n",
    "    df = pd.read_csv(file_path, header=None)\n",
    "\n",
    "    df.columns = ['AT', 'V', 'AP', 'RH', 'PE']\n",
    "    \n",
    "    df.AT = df.AT.astype(float)\n",
    "    df.V = df.V.astype(float)\n",
    "    df.AP = df.AP.astype(float)\n",
    "    df.RH = df.RH.astype(float)\n",
    "    df.PE = df.PE.astype(float)\n",
    "\n",
    "    df = df.rename(columns={'PE': 'Y'})\n",
    "\n",
    "    df = df.reset_index()\n",
    "    df = df.drop(columns=['index'])\n",
    "\n",
    "    train_idx = range(9000)\n",
    "    train = df.loc[train_idx]\n",
    "\n",
    "    test_idx = range(9000, len(df))\n",
    "    test = df.loc[test_idx]\n",
    "\n",
    "    train_idx_final = np.random.permutation(len(train))[:dict_no['train']]\n",
    "\n",
    "    temp_idx = np.random.permutation(len(test))\n",
    "    test_idx_final = temp_idx[:dict_no['test']] + 9000\n",
    "    train = train.loc[train_idx_final]\n",
    "    test = test.loc[test_idx_final]\n",
    "\n",
    "    # Saves data\n",
    "    if not os.path.exists('data_files'):\n",
    "        os.makedirs('data_files')\n",
    "\n",
    "    train.to_csv('./data_files/' + str(train_file_name), index=False)\n",
    "    test.to_csv('./data_files/' + str(test_file_name), index=False)\n",
    "\n",
    "file_path = \"./data_files/Folds5x2_pp.csv\"\n",
    "load_data(file_path, {'test':100, 'train': 5000}, 'seller_divide_train.csv', 'seller_divide_test.csv')"
   ]
  },
  {
   "cell_type": "code",
   "execution_count": 3,
   "metadata": {},
   "outputs": [],
   "source": [
    "from dynashap.dynamic import mc_shap\n",
    "from data_utils import preprocess_data\n",
    "from sklearn import svm, linear_model\n",
    "import pandas as pd\n",
    "from sklearn import metrics\n",
    "x_train, y_train, x_test, y_test, \\\n",
    "columns_name = \\\n",
    "    preprocess_data('seller_divide_train.csv', 'seller_divide_test.csv')\n",
    "#model = svm.SVC(decision_function_shape='ovo')\n",
    "model = linear_model.LinearRegression()\n",
    "sv = mc_shap(x_train, y_train, x_test, y_test, model, 5000, 14)\n",
    "new_idx = np.argsort(sv)\n",
    "x_new = x_train[new_idx]\n",
    "y_new = y_train[new_idx]\n",
    "x_new_pd = pd.DataFrame(x_new)\n",
    "y_new_pd = pd.DataFrame(y_new)\n",
    "x_new_pd.to_csv('./data_files/' + 'x_new.csv', index=False)\n",
    "y_new_pd.to_csv('./data_files/' + 'y_new.csv', index=False)"
   ]
  },
  {
   "cell_type": "code",
   "execution_count": 40,
   "metadata": {},
   "outputs": [],
   "source": [
    "import random\n",
    "seller_data = pd.read_csv('./data_files/' + 'seller_in2.csv')\n",
    "seller_data = seller_data.values\n",
    "magnification = 112\n",
    "seller_aug = np.zeros((np.size(seller_data, 0) * magnification, 5))\n",
    "idx = 0\n",
    "for k in range(np.size(seller_data, 0)):\n",
    "    for i in range(magnification):\n",
    "        for j in range(np.size(seller_data, 1)):\n",
    "            seller_aug[idx][j] = seller_data[k][j] + random.gauss(0, 0.1)\n",
    "        idx += 1\n",
    "seller_aug_pd = pd.DataFrame(seller_aug)\n",
    "seller_aug_pd.to_csv('./data_files/' + 'seller_aug.csv', index=False)"
   ]
  }
 ],
 "metadata": {
  "interpreter": {
   "hash": "49cb93f377a7abe7414b7b0f21fb3017538004a126cf690fb524202736b7fb92"
  },
  "kernelspec": {
   "display_name": "Python 3.9.7 ('base')",
   "language": "python",
   "name": "python3"
  },
  "language_info": {
   "codemirror_mode": {
    "name": "ipython",
    "version": 3
   },
   "file_extension": ".py",
   "mimetype": "text/x-python",
   "name": "python",
   "nbconvert_exporter": "python",
   "pygments_lexer": "ipython3",
   "version": "3.9.7"
  },
  "orig_nbformat": 4
 },
 "nbformat": 4,
 "nbformat_minor": 2
}
